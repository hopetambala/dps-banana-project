{
 "cells": [
  {
   "cell_type": "code",
   "execution_count": 6,
   "metadata": {},
   "outputs": [
    {
     "data": {
      "text/html": [
       "<div>\n",
       "<style scoped>\n",
       "    .dataframe tbody tr th:only-of-type {\n",
       "        vertical-align: middle;\n",
       "    }\n",
       "\n",
       "    .dataframe tbody tr th {\n",
       "        vertical-align: top;\n",
       "    }\n",
       "\n",
       "    .dataframe thead th {\n",
       "        text-align: right;\n",
       "    }\n",
       "</style>\n",
       "<table border=\"1\" class=\"dataframe\">\n",
       "  <thead>\n",
       "    <tr style=\"text-align: right;\">\n",
       "      <th>Year</th>\n",
       "      <th>1994</th>\n",
       "      <th>1995</th>\n",
       "      <th>1996</th>\n",
       "      <th>1997</th>\n",
       "      <th>1998</th>\n",
       "      <th>1999</th>\n",
       "      <th>2000</th>\n",
       "      <th>2001</th>\n",
       "      <th>2002</th>\n",
       "      <th>2003</th>\n",
       "      <th>2004</th>\n",
       "      <th>2005</th>\n",
       "    </tr>\n",
       "    <tr>\n",
       "      <th>Area</th>\n",
       "      <th></th>\n",
       "      <th></th>\n",
       "      <th></th>\n",
       "      <th></th>\n",
       "      <th></th>\n",
       "      <th></th>\n",
       "      <th></th>\n",
       "      <th></th>\n",
       "      <th></th>\n",
       "      <th></th>\n",
       "      <th></th>\n",
       "      <th></th>\n",
       "    </tr>\n",
       "  </thead>\n",
       "  <tbody>\n",
       "    <tr>\n",
       "      <td>Belgium-Luxembourg</td>\n",
       "      <td>505145.0</td>\n",
       "      <td>829256.0</td>\n",
       "      <td>869070.0</td>\n",
       "      <td>808092.0</td>\n",
       "      <td>837966.0</td>\n",
       "      <td>985141.0</td>\n",
       "      <td>NaN</td>\n",
       "      <td>NaN</td>\n",
       "      <td>NaN</td>\n",
       "      <td>NaN</td>\n",
       "      <td>NaN</td>\n",
       "      <td>NaN</td>\n",
       "    </tr>\n",
       "    <tr>\n",
       "      <td>Cameroon</td>\n",
       "      <td>165300.0</td>\n",
       "      <td>187294.0</td>\n",
       "      <td>160192.0</td>\n",
       "      <td>179698.0</td>\n",
       "      <td>134000.0</td>\n",
       "      <td>165000.0</td>\n",
       "      <td>238170.0</td>\n",
       "      <td>254102.0</td>\n",
       "      <td>238412.0</td>\n",
       "      <td>313723.0</td>\n",
       "      <td>294886.0</td>\n",
       "      <td>265457.0</td>\n",
       "    </tr>\n",
       "    <tr>\n",
       "      <td>Colombia</td>\n",
       "      <td>1703718.0</td>\n",
       "      <td>1360278.0</td>\n",
       "      <td>1476523.0</td>\n",
       "      <td>1586029.0</td>\n",
       "      <td>1408820.0</td>\n",
       "      <td>1697518.0</td>\n",
       "      <td>1564400.0</td>\n",
       "      <td>1344231.0</td>\n",
       "      <td>1460245.0</td>\n",
       "      <td>1424819.0</td>\n",
       "      <td>1471394.0</td>\n",
       "      <td>1621746.0</td>\n",
       "    </tr>\n",
       "    <tr>\n",
       "      <td>Costa Rica</td>\n",
       "      <td>1868894.0</td>\n",
       "      <td>2022134.0</td>\n",
       "      <td>2102830.0</td>\n",
       "      <td>2025549.0</td>\n",
       "      <td>2288497.0</td>\n",
       "      <td>2229700.0</td>\n",
       "      <td>2079280.0</td>\n",
       "      <td>1959272.0</td>\n",
       "      <td>1873346.0</td>\n",
       "      <td>2042570.0</td>\n",
       "      <td>2016687.0</td>\n",
       "      <td>1775519.0</td>\n",
       "    </tr>\n",
       "    <tr>\n",
       "      <td>Ecuador</td>\n",
       "      <td>3007925.0</td>\n",
       "      <td>3665182.0</td>\n",
       "      <td>3866079.0</td>\n",
       "      <td>4462099.0</td>\n",
       "      <td>3855643.0</td>\n",
       "      <td>3966126.0</td>\n",
       "      <td>3993968.0</td>\n",
       "      <td>3990427.0</td>\n",
       "      <td>4199156.0</td>\n",
       "      <td>4664814.0</td>\n",
       "      <td>4521458.0</td>\n",
       "      <td>4764193.0</td>\n",
       "    </tr>\n",
       "    <tr>\n",
       "      <td>Guatemala</td>\n",
       "      <td>567882.0</td>\n",
       "      <td>635503.0</td>\n",
       "      <td>611183.0</td>\n",
       "      <td>659392.0</td>\n",
       "      <td>794240.0</td>\n",
       "      <td>623583.0</td>\n",
       "      <td>801515.0</td>\n",
       "      <td>873829.0</td>\n",
       "      <td>980557.0</td>\n",
       "      <td>936114.0</td>\n",
       "      <td>1058161.0</td>\n",
       "      <td>1129477.0</td>\n",
       "    </tr>\n",
       "    <tr>\n",
       "      <td>Honduras</td>\n",
       "      <td>445612.0</td>\n",
       "      <td>521637.0</td>\n",
       "      <td>573710.0</td>\n",
       "      <td>488671.0</td>\n",
       "      <td>467281.0</td>\n",
       "      <td>112678.0</td>\n",
       "      <td>374964.0</td>\n",
       "      <td>428605.0</td>\n",
       "      <td>441407.0</td>\n",
       "      <td>453164.0</td>\n",
       "      <td>571686.0</td>\n",
       "      <td>545527.0</td>\n",
       "    </tr>\n",
       "    <tr>\n",
       "      <td>Panama</td>\n",
       "      <td>712248.0</td>\n",
       "      <td>690017.0</td>\n",
       "      <td>631953.0</td>\n",
       "      <td>608208.0</td>\n",
       "      <td>462415.0</td>\n",
       "      <td>593364.0</td>\n",
       "      <td>489284.0</td>\n",
       "      <td>426081.0</td>\n",
       "      <td>403923.0</td>\n",
       "      <td>385320.0</td>\n",
       "      <td>397940.0</td>\n",
       "      <td>352480.0</td>\n",
       "    </tr>\n",
       "    <tr>\n",
       "      <td>Philippines</td>\n",
       "      <td>1155182.0</td>\n",
       "      <td>1213411.0</td>\n",
       "      <td>1252196.0</td>\n",
       "      <td>1143336.0</td>\n",
       "      <td>1149552.0</td>\n",
       "      <td>1319632.0</td>\n",
       "      <td>1599920.0</td>\n",
       "      <td>2129309.0</td>\n",
       "      <td>1684986.0</td>\n",
       "      <td>1829384.0</td>\n",
       "      <td>1797343.0</td>\n",
       "      <td>2024322.0</td>\n",
       "    </tr>\n",
       "    <tr>\n",
       "      <td>United Arab Emirates</td>\n",
       "      <td>10262.0</td>\n",
       "      <td>15387.0</td>\n",
       "      <td>12753.0</td>\n",
       "      <td>60000.0</td>\n",
       "      <td>40000.0</td>\n",
       "      <td>35000.0</td>\n",
       "      <td>30000.0</td>\n",
       "      <td>47000.0</td>\n",
       "      <td>7700.0</td>\n",
       "      <td>3337.0</td>\n",
       "      <td>110000.0</td>\n",
       "      <td>110000.0</td>\n",
       "    </tr>\n",
       "    <tr>\n",
       "      <td>United States of America</td>\n",
       "      <td>383216.0</td>\n",
       "      <td>397546.0</td>\n",
       "      <td>408741.0</td>\n",
       "      <td>418823.0</td>\n",
       "      <td>416520.0</td>\n",
       "      <td>418813.0</td>\n",
       "      <td>400188.0</td>\n",
       "      <td>406968.0</td>\n",
       "      <td>416600.0</td>\n",
       "      <td>427543.0</td>\n",
       "      <td>445757.0</td>\n",
       "      <td>449647.0</td>\n",
       "    </tr>\n",
       "  </tbody>\n",
       "</table>\n",
       "</div>"
      ],
      "text/plain": [
       "Year                           1994       1995       1996       1997  \\\n",
       "Area                                                                   \n",
       "Belgium-Luxembourg         505145.0   829256.0   869070.0   808092.0   \n",
       "Cameroon                   165300.0   187294.0   160192.0   179698.0   \n",
       "Colombia                  1703718.0  1360278.0  1476523.0  1586029.0   \n",
       "Costa Rica                1868894.0  2022134.0  2102830.0  2025549.0   \n",
       "Ecuador                   3007925.0  3665182.0  3866079.0  4462099.0   \n",
       "Guatemala                  567882.0   635503.0   611183.0   659392.0   \n",
       "Honduras                   445612.0   521637.0   573710.0   488671.0   \n",
       "Panama                     712248.0   690017.0   631953.0   608208.0   \n",
       "Philippines               1155182.0  1213411.0  1252196.0  1143336.0   \n",
       "United Arab Emirates        10262.0    15387.0    12753.0    60000.0   \n",
       "United States of America   383216.0   397546.0   408741.0   418823.0   \n",
       "\n",
       "Year                           1998       1999       2000       2001  \\\n",
       "Area                                                                   \n",
       "Belgium-Luxembourg         837966.0   985141.0        NaN        NaN   \n",
       "Cameroon                   134000.0   165000.0   238170.0   254102.0   \n",
       "Colombia                  1408820.0  1697518.0  1564400.0  1344231.0   \n",
       "Costa Rica                2288497.0  2229700.0  2079280.0  1959272.0   \n",
       "Ecuador                   3855643.0  3966126.0  3993968.0  3990427.0   \n",
       "Guatemala                  794240.0   623583.0   801515.0   873829.0   \n",
       "Honduras                   467281.0   112678.0   374964.0   428605.0   \n",
       "Panama                     462415.0   593364.0   489284.0   426081.0   \n",
       "Philippines               1149552.0  1319632.0  1599920.0  2129309.0   \n",
       "United Arab Emirates        40000.0    35000.0    30000.0    47000.0   \n",
       "United States of America   416520.0   418813.0   400188.0   406968.0   \n",
       "\n",
       "Year                           2002       2003       2004       2005  \n",
       "Area                                                                  \n",
       "Belgium-Luxembourg              NaN        NaN        NaN        NaN  \n",
       "Cameroon                   238412.0   313723.0   294886.0   265457.0  \n",
       "Colombia                  1460245.0  1424819.0  1471394.0  1621746.0  \n",
       "Costa Rica                1873346.0  2042570.0  2016687.0  1775519.0  \n",
       "Ecuador                   4199156.0  4664814.0  4521458.0  4764193.0  \n",
       "Guatemala                  980557.0   936114.0  1058161.0  1129477.0  \n",
       "Honduras                   441407.0   453164.0   571686.0   545527.0  \n",
       "Panama                     403923.0   385320.0   397940.0   352480.0  \n",
       "Philippines               1684986.0  1829384.0  1797343.0  2024322.0  \n",
       "United Arab Emirates         7700.0     3337.0   110000.0   110000.0  \n",
       "United States of America   416600.0   427543.0   445757.0   449647.0  "
      ]
     },
     "execution_count": 6,
     "metadata": {},
     "output_type": "execute_result"
    }
   ],
   "source": [
    "import pandas as pd\n",
    "import numpy as np\n",
    "import plotly.graph_objects as go\n",
    "banana = pd.read_csv('FAOSTAT_data_10-18-2019.csv')\n",
    "\n",
    "banana=banana[banana['Unit']=='tonnes']\n",
    "\n",
    "banana1=banana.pivot(index='Area',columns='Year')"
   ]
  },
  {
   "cell_type": "code",
   "execution_count": 7,
   "metadata": {},
   "outputs": [
    {
     "data": {
      "application/vnd.plotly.v1+json": {
       "config": {
        "plotlyServerURL": "https://plot.ly"
       },
       "data": [
        {
         "line": {
          "color": "deepskyblue"
         },
         "name": "Belgium-Luxembourg",
         "type": "scatter",
         "x": [
          1994,
          1995,
          1996,
          1997,
          1998,
          1999
         ],
         "y": [
          505145,
          829256,
          869070,
          808092,
          837966,
          985141
         ]
        },
        {
         "line": {
          "color": "aliceblue"
         },
         "name": "Cameroon",
         "type": "scatter",
         "x": [
          1994,
          1995,
          1996,
          1997,
          1998,
          1999,
          2000,
          2001,
          2002,
          2003,
          2004,
          2005
         ],
         "y": [
          165300,
          187294,
          160192,
          179698,
          134000,
          165000,
          238170,
          254102,
          238412,
          313723,
          294886,
          265457
         ]
        },
        {
         "line": {
          "color": "antiquewhite"
         },
         "name": "Colombia",
         "type": "scatter",
         "x": [
          1994,
          1995,
          1996,
          1997,
          1998,
          1999,
          2000,
          2001,
          2002,
          2003,
          2004,
          2005
         ],
         "y": [
          1703718,
          1360278,
          1476523,
          1586029,
          1408820,
          1697518,
          1564400,
          1344231,
          1460245,
          1424819,
          1471394,
          1621746
         ]
        },
        {
         "line": {
          "color": "aquamarine"
         },
         "name": "Costa Rica",
         "type": "scatter",
         "x": [
          1994,
          1995,
          1996,
          1997,
          1998,
          1999,
          2000,
          2001,
          2002,
          2003,
          2004,
          2005
         ],
         "y": [
          1868894,
          2022134,
          2102830,
          2025549,
          2288497,
          2229700,
          2079280,
          1959272,
          1873346,
          2042570,
          2016687,
          1775519
         ]
        },
        {
         "line": {
          "color": "burlywood"
         },
         "name": "Ecuador",
         "type": "scatter",
         "x": [
          1994,
          1995,
          1996,
          1997,
          1998,
          1999,
          2000,
          2001,
          2002,
          2003,
          2004,
          2005
         ],
         "y": [
          3007925,
          3665182,
          3866079,
          4462099,
          3855643,
          3966126,
          3993968,
          3990427,
          4199156,
          4664814,
          4521458,
          4764193
         ]
        },
        {
         "line": {
          "color": "hotpink"
         },
         "name": "Guatemala",
         "type": "scatter",
         "x": [
          1994,
          1995,
          1996,
          1997,
          1998,
          1999,
          2000,
          2001,
          2002,
          2003,
          2004,
          2005
         ],
         "y": [
          567882,
          635503,
          611183,
          659392,
          794240,
          623583,
          801515,
          873829,
          980557,
          936114,
          1058161,
          1129477
         ]
        },
        {
         "line": {
          "color": "lavenderblush"
         },
         "name": "Honduras",
         "type": "scatter",
         "x": [
          1994,
          1995,
          1996,
          1997,
          1998,
          1999,
          2000,
          2001,
          2002,
          2003,
          2004,
          2005
         ],
         "y": [
          445612,
          521637,
          573710,
          488671,
          467281,
          112678,
          374964,
          428605,
          441407,
          453164,
          571686,
          545527
         ]
        },
        {
         "line": {
          "color": "lawngreen"
         },
         "name": "Panama",
         "type": "scatter",
         "x": [
          1994,
          1995,
          1996,
          1997,
          1998,
          1999,
          2000,
          2001,
          2002,
          2003,
          2004,
          2005
         ],
         "y": [
          712248,
          690017,
          631953,
          608208,
          462415,
          593364,
          489284,
          426081,
          403923,
          385320,
          397940,
          352480
         ]
        },
        {
         "line": {
          "color": "firebrick"
         },
         "name": "Philippines",
         "type": "scatter",
         "x": [
          1994,
          1995,
          1996,
          1997,
          1998,
          1999,
          2000,
          2001,
          2002,
          2003,
          2004,
          2005
         ],
         "y": [
          1155182,
          1213411,
          1252196,
          1143336,
          1149552,
          1319632,
          1599920,
          2129309,
          1684986,
          1829384,
          1797343,
          2024322
         ]
        },
        {
         "line": {
          "color": "deeppink"
         },
         "name": "United Arab Emirates",
         "type": "scatter",
         "x": [
          1994,
          1995,
          1996,
          1997,
          1998,
          1999,
          2000,
          2001,
          2002,
          2003,
          2004,
          2005
         ],
         "y": [
          10262,
          15387,
          12753,
          60000,
          40000,
          35000,
          30000,
          47000,
          7700,
          3337,
          110000,
          110000
         ]
        },
        {
         "line": {
          "color": "darkviolet"
         },
         "name": "United States of America",
         "type": "scatter",
         "x": [
          1994,
          1995,
          1996,
          1997,
          1998,
          1999,
          2000,
          2001,
          2002,
          2003,
          2004,
          2005
         ],
         "y": [
          383216,
          397546,
          408741,
          418823,
          416520,
          418813,
          400188,
          406968,
          416600,
          427543,
          445757,
          449647
         ]
        }
       ],
       "layout": {
        "template": {
         "data": {
          "bar": [
           {
            "error_x": {
             "color": "#2a3f5f"
            },
            "error_y": {
             "color": "#2a3f5f"
            },
            "marker": {
             "line": {
              "color": "#E5ECF6",
              "width": 0.5
             }
            },
            "type": "bar"
           }
          ],
          "barpolar": [
           {
            "marker": {
             "line": {
              "color": "#E5ECF6",
              "width": 0.5
             }
            },
            "type": "barpolar"
           }
          ],
          "carpet": [
           {
            "aaxis": {
             "endlinecolor": "#2a3f5f",
             "gridcolor": "white",
             "linecolor": "white",
             "minorgridcolor": "white",
             "startlinecolor": "#2a3f5f"
            },
            "baxis": {
             "endlinecolor": "#2a3f5f",
             "gridcolor": "white",
             "linecolor": "white",
             "minorgridcolor": "white",
             "startlinecolor": "#2a3f5f"
            },
            "type": "carpet"
           }
          ],
          "choropleth": [
           {
            "colorbar": {
             "outlinewidth": 0,
             "ticks": ""
            },
            "type": "choropleth"
           }
          ],
          "contour": [
           {
            "colorbar": {
             "outlinewidth": 0,
             "ticks": ""
            },
            "colorscale": [
             [
              0,
              "#0d0887"
             ],
             [
              0.1111111111111111,
              "#46039f"
             ],
             [
              0.2222222222222222,
              "#7201a8"
             ],
             [
              0.3333333333333333,
              "#9c179e"
             ],
             [
              0.4444444444444444,
              "#bd3786"
             ],
             [
              0.5555555555555556,
              "#d8576b"
             ],
             [
              0.6666666666666666,
              "#ed7953"
             ],
             [
              0.7777777777777778,
              "#fb9f3a"
             ],
             [
              0.8888888888888888,
              "#fdca26"
             ],
             [
              1,
              "#f0f921"
             ]
            ],
            "type": "contour"
           }
          ],
          "contourcarpet": [
           {
            "colorbar": {
             "outlinewidth": 0,
             "ticks": ""
            },
            "type": "contourcarpet"
           }
          ],
          "heatmap": [
           {
            "colorbar": {
             "outlinewidth": 0,
             "ticks": ""
            },
            "colorscale": [
             [
              0,
              "#0d0887"
             ],
             [
              0.1111111111111111,
              "#46039f"
             ],
             [
              0.2222222222222222,
              "#7201a8"
             ],
             [
              0.3333333333333333,
              "#9c179e"
             ],
             [
              0.4444444444444444,
              "#bd3786"
             ],
             [
              0.5555555555555556,
              "#d8576b"
             ],
             [
              0.6666666666666666,
              "#ed7953"
             ],
             [
              0.7777777777777778,
              "#fb9f3a"
             ],
             [
              0.8888888888888888,
              "#fdca26"
             ],
             [
              1,
              "#f0f921"
             ]
            ],
            "type": "heatmap"
           }
          ],
          "heatmapgl": [
           {
            "colorbar": {
             "outlinewidth": 0,
             "ticks": ""
            },
            "colorscale": [
             [
              0,
              "#0d0887"
             ],
             [
              0.1111111111111111,
              "#46039f"
             ],
             [
              0.2222222222222222,
              "#7201a8"
             ],
             [
              0.3333333333333333,
              "#9c179e"
             ],
             [
              0.4444444444444444,
              "#bd3786"
             ],
             [
              0.5555555555555556,
              "#d8576b"
             ],
             [
              0.6666666666666666,
              "#ed7953"
             ],
             [
              0.7777777777777778,
              "#fb9f3a"
             ],
             [
              0.8888888888888888,
              "#fdca26"
             ],
             [
              1,
              "#f0f921"
             ]
            ],
            "type": "heatmapgl"
           }
          ],
          "histogram": [
           {
            "marker": {
             "colorbar": {
              "outlinewidth": 0,
              "ticks": ""
             }
            },
            "type": "histogram"
           }
          ],
          "histogram2d": [
           {
            "colorbar": {
             "outlinewidth": 0,
             "ticks": ""
            },
            "colorscale": [
             [
              0,
              "#0d0887"
             ],
             [
              0.1111111111111111,
              "#46039f"
             ],
             [
              0.2222222222222222,
              "#7201a8"
             ],
             [
              0.3333333333333333,
              "#9c179e"
             ],
             [
              0.4444444444444444,
              "#bd3786"
             ],
             [
              0.5555555555555556,
              "#d8576b"
             ],
             [
              0.6666666666666666,
              "#ed7953"
             ],
             [
              0.7777777777777778,
              "#fb9f3a"
             ],
             [
              0.8888888888888888,
              "#fdca26"
             ],
             [
              1,
              "#f0f921"
             ]
            ],
            "type": "histogram2d"
           }
          ],
          "histogram2dcontour": [
           {
            "colorbar": {
             "outlinewidth": 0,
             "ticks": ""
            },
            "colorscale": [
             [
              0,
              "#0d0887"
             ],
             [
              0.1111111111111111,
              "#46039f"
             ],
             [
              0.2222222222222222,
              "#7201a8"
             ],
             [
              0.3333333333333333,
              "#9c179e"
             ],
             [
              0.4444444444444444,
              "#bd3786"
             ],
             [
              0.5555555555555556,
              "#d8576b"
             ],
             [
              0.6666666666666666,
              "#ed7953"
             ],
             [
              0.7777777777777778,
              "#fb9f3a"
             ],
             [
              0.8888888888888888,
              "#fdca26"
             ],
             [
              1,
              "#f0f921"
             ]
            ],
            "type": "histogram2dcontour"
           }
          ],
          "mesh3d": [
           {
            "colorbar": {
             "outlinewidth": 0,
             "ticks": ""
            },
            "type": "mesh3d"
           }
          ],
          "parcoords": [
           {
            "line": {
             "colorbar": {
              "outlinewidth": 0,
              "ticks": ""
             }
            },
            "type": "parcoords"
           }
          ],
          "scatter": [
           {
            "marker": {
             "colorbar": {
              "outlinewidth": 0,
              "ticks": ""
             }
            },
            "type": "scatter"
           }
          ],
          "scatter3d": [
           {
            "line": {
             "colorbar": {
              "outlinewidth": 0,
              "ticks": ""
             }
            },
            "marker": {
             "colorbar": {
              "outlinewidth": 0,
              "ticks": ""
             }
            },
            "type": "scatter3d"
           }
          ],
          "scattercarpet": [
           {
            "marker": {
             "colorbar": {
              "outlinewidth": 0,
              "ticks": ""
             }
            },
            "type": "scattercarpet"
           }
          ],
          "scattergeo": [
           {
            "marker": {
             "colorbar": {
              "outlinewidth": 0,
              "ticks": ""
             }
            },
            "type": "scattergeo"
           }
          ],
          "scattergl": [
           {
            "marker": {
             "colorbar": {
              "outlinewidth": 0,
              "ticks": ""
             }
            },
            "type": "scattergl"
           }
          ],
          "scattermapbox": [
           {
            "marker": {
             "colorbar": {
              "outlinewidth": 0,
              "ticks": ""
             }
            },
            "type": "scattermapbox"
           }
          ],
          "scatterpolar": [
           {
            "marker": {
             "colorbar": {
              "outlinewidth": 0,
              "ticks": ""
             }
            },
            "type": "scatterpolar"
           }
          ],
          "scatterpolargl": [
           {
            "marker": {
             "colorbar": {
              "outlinewidth": 0,
              "ticks": ""
             }
            },
            "type": "scatterpolargl"
           }
          ],
          "scatterternary": [
           {
            "marker": {
             "colorbar": {
              "outlinewidth": 0,
              "ticks": ""
             }
            },
            "type": "scatterternary"
           }
          ],
          "surface": [
           {
            "colorbar": {
             "outlinewidth": 0,
             "ticks": ""
            },
            "colorscale": [
             [
              0,
              "#0d0887"
             ],
             [
              0.1111111111111111,
              "#46039f"
             ],
             [
              0.2222222222222222,
              "#7201a8"
             ],
             [
              0.3333333333333333,
              "#9c179e"
             ],
             [
              0.4444444444444444,
              "#bd3786"
             ],
             [
              0.5555555555555556,
              "#d8576b"
             ],
             [
              0.6666666666666666,
              "#ed7953"
             ],
             [
              0.7777777777777778,
              "#fb9f3a"
             ],
             [
              0.8888888888888888,
              "#fdca26"
             ],
             [
              1,
              "#f0f921"
             ]
            ],
            "type": "surface"
           }
          ],
          "table": [
           {
            "cells": {
             "fill": {
              "color": "#EBF0F8"
             },
             "line": {
              "color": "white"
             }
            },
            "header": {
             "fill": {
              "color": "#C8D4E3"
             },
             "line": {
              "color": "white"
             }
            },
            "type": "table"
           }
          ]
         },
         "layout": {
          "annotationdefaults": {
           "arrowcolor": "#2a3f5f",
           "arrowhead": 0,
           "arrowwidth": 1
          },
          "colorscale": {
           "diverging": [
            [
             0,
             "#8e0152"
            ],
            [
             0.1,
             "#c51b7d"
            ],
            [
             0.2,
             "#de77ae"
            ],
            [
             0.3,
             "#f1b6da"
            ],
            [
             0.4,
             "#fde0ef"
            ],
            [
             0.5,
             "#f7f7f7"
            ],
            [
             0.6,
             "#e6f5d0"
            ],
            [
             0.7,
             "#b8e186"
            ],
            [
             0.8,
             "#7fbc41"
            ],
            [
             0.9,
             "#4d9221"
            ],
            [
             1,
             "#276419"
            ]
           ],
           "sequential": [
            [
             0,
             "#0d0887"
            ],
            [
             0.1111111111111111,
             "#46039f"
            ],
            [
             0.2222222222222222,
             "#7201a8"
            ],
            [
             0.3333333333333333,
             "#9c179e"
            ],
            [
             0.4444444444444444,
             "#bd3786"
            ],
            [
             0.5555555555555556,
             "#d8576b"
            ],
            [
             0.6666666666666666,
             "#ed7953"
            ],
            [
             0.7777777777777778,
             "#fb9f3a"
            ],
            [
             0.8888888888888888,
             "#fdca26"
            ],
            [
             1,
             "#f0f921"
            ]
           ],
           "sequentialminus": [
            [
             0,
             "#0d0887"
            ],
            [
             0.1111111111111111,
             "#46039f"
            ],
            [
             0.2222222222222222,
             "#7201a8"
            ],
            [
             0.3333333333333333,
             "#9c179e"
            ],
            [
             0.4444444444444444,
             "#bd3786"
            ],
            [
             0.5555555555555556,
             "#d8576b"
            ],
            [
             0.6666666666666666,
             "#ed7953"
            ],
            [
             0.7777777777777778,
             "#fb9f3a"
            ],
            [
             0.8888888888888888,
             "#fdca26"
            ],
            [
             1,
             "#f0f921"
            ]
           ]
          },
          "colorway": [
           "#636efa",
           "#EF553B",
           "#00cc96",
           "#ab63fa",
           "#FFA15A",
           "#19d3f3",
           "#FF6692",
           "#B6E880",
           "#FF97FF",
           "#FECB52"
          ],
          "font": {
           "color": "#2a3f5f"
          },
          "geo": {
           "bgcolor": "white",
           "lakecolor": "white",
           "landcolor": "#E5ECF6",
           "showlakes": true,
           "showland": true,
           "subunitcolor": "white"
          },
          "hoverlabel": {
           "align": "left"
          },
          "hovermode": "closest",
          "mapbox": {
           "style": "light"
          },
          "paper_bgcolor": "white",
          "plot_bgcolor": "#E5ECF6",
          "polar": {
           "angularaxis": {
            "gridcolor": "white",
            "linecolor": "white",
            "ticks": ""
           },
           "bgcolor": "#E5ECF6",
           "radialaxis": {
            "gridcolor": "white",
            "linecolor": "white",
            "ticks": ""
           }
          },
          "scene": {
           "xaxis": {
            "backgroundcolor": "#E5ECF6",
            "gridcolor": "white",
            "gridwidth": 2,
            "linecolor": "white",
            "showbackground": true,
            "ticks": "",
            "zerolinecolor": "white"
           },
           "yaxis": {
            "backgroundcolor": "#E5ECF6",
            "gridcolor": "white",
            "gridwidth": 2,
            "linecolor": "white",
            "showbackground": true,
            "ticks": "",
            "zerolinecolor": "white"
           },
           "zaxis": {
            "backgroundcolor": "#E5ECF6",
            "gridcolor": "white",
            "gridwidth": 2,
            "linecolor": "white",
            "showbackground": true,
            "ticks": "",
            "zerolinecolor": "white"
           }
          },
          "shapedefaults": {
           "line": {
            "color": "#2a3f5f"
           }
          },
          "ternary": {
           "aaxis": {
            "gridcolor": "white",
            "linecolor": "white",
            "ticks": ""
           },
           "baxis": {
            "gridcolor": "white",
            "linecolor": "white",
            "ticks": ""
           },
           "bgcolor": "#E5ECF6",
           "caxis": {
            "gridcolor": "white",
            "linecolor": "white",
            "ticks": ""
           }
          },
          "title": {
           "x": 0.05
          },
          "xaxis": {
           "automargin": true,
           "gridcolor": "white",
           "linecolor": "white",
           "ticks": "",
           "zerolinecolor": "white",
           "zerolinewidth": 2
          },
          "yaxis": {
           "automargin": true,
           "gridcolor": "white",
           "linecolor": "white",
           "ticks": "",
           "zerolinecolor": "white",
           "zerolinewidth": 2
          }
         }
        },
        "title": {
         "text": "Banana Export"
        },
        "xaxis": {
         "rangeslider": {
          "visible": true
         }
        }
       }
      },
      "text/html": [
       "<div>\n",
       "        \n",
       "        \n",
       "            <div id=\"2c9475cc-34f8-472a-9844-9a86ed2d66dc\" class=\"plotly-graph-div\" style=\"height:525px; width:100%;\"></div>\n",
       "            <script type=\"text/javascript\">\n",
       "                require([\"plotly\"], function(Plotly) {\n",
       "                    window.PLOTLYENV=window.PLOTLYENV || {};\n",
       "                    \n",
       "                if (document.getElementById(\"2c9475cc-34f8-472a-9844-9a86ed2d66dc\")) {\n",
       "                    Plotly.newPlot(\n",
       "                        '2c9475cc-34f8-472a-9844-9a86ed2d66dc',\n",
       "                        [{\"line\": {\"color\": \"deepskyblue\"}, \"name\": \"Belgium-Luxembourg\", \"type\": \"scatter\", \"x\": [1994, 1995, 1996, 1997, 1998, 1999], \"y\": [505145, 829256, 869070, 808092, 837966, 985141]}, {\"line\": {\"color\": \"aliceblue\"}, \"name\": \"Cameroon\", \"type\": \"scatter\", \"x\": [1994, 1995, 1996, 1997, 1998, 1999, 2000, 2001, 2002, 2003, 2004, 2005], \"y\": [165300, 187294, 160192, 179698, 134000, 165000, 238170, 254102, 238412, 313723, 294886, 265457]}, {\"line\": {\"color\": \"antiquewhite\"}, \"name\": \"Colombia\", \"type\": \"scatter\", \"x\": [1994, 1995, 1996, 1997, 1998, 1999, 2000, 2001, 2002, 2003, 2004, 2005], \"y\": [1703718, 1360278, 1476523, 1586029, 1408820, 1697518, 1564400, 1344231, 1460245, 1424819, 1471394, 1621746]}, {\"line\": {\"color\": \"aquamarine\"}, \"name\": \"Costa Rica\", \"type\": \"scatter\", \"x\": [1994, 1995, 1996, 1997, 1998, 1999, 2000, 2001, 2002, 2003, 2004, 2005], \"y\": [1868894, 2022134, 2102830, 2025549, 2288497, 2229700, 2079280, 1959272, 1873346, 2042570, 2016687, 1775519]}, {\"line\": {\"color\": \"burlywood\"}, \"name\": \"Ecuador\", \"type\": \"scatter\", \"x\": [1994, 1995, 1996, 1997, 1998, 1999, 2000, 2001, 2002, 2003, 2004, 2005], \"y\": [3007925, 3665182, 3866079, 4462099, 3855643, 3966126, 3993968, 3990427, 4199156, 4664814, 4521458, 4764193]}, {\"line\": {\"color\": \"hotpink\"}, \"name\": \"Guatemala\", \"type\": \"scatter\", \"x\": [1994, 1995, 1996, 1997, 1998, 1999, 2000, 2001, 2002, 2003, 2004, 2005], \"y\": [567882, 635503, 611183, 659392, 794240, 623583, 801515, 873829, 980557, 936114, 1058161, 1129477]}, {\"line\": {\"color\": \"lavenderblush\"}, \"name\": \"Honduras\", \"type\": \"scatter\", \"x\": [1994, 1995, 1996, 1997, 1998, 1999, 2000, 2001, 2002, 2003, 2004, 2005], \"y\": [445612, 521637, 573710, 488671, 467281, 112678, 374964, 428605, 441407, 453164, 571686, 545527]}, {\"line\": {\"color\": \"lawngreen\"}, \"name\": \"Panama\", \"type\": \"scatter\", \"x\": [1994, 1995, 1996, 1997, 1998, 1999, 2000, 2001, 2002, 2003, 2004, 2005], \"y\": [712248, 690017, 631953, 608208, 462415, 593364, 489284, 426081, 403923, 385320, 397940, 352480]}, {\"line\": {\"color\": \"firebrick\"}, \"name\": \"Philippines\", \"type\": \"scatter\", \"x\": [1994, 1995, 1996, 1997, 1998, 1999, 2000, 2001, 2002, 2003, 2004, 2005], \"y\": [1155182, 1213411, 1252196, 1143336, 1149552, 1319632, 1599920, 2129309, 1684986, 1829384, 1797343, 2024322]}, {\"line\": {\"color\": \"deeppink\"}, \"name\": \"United Arab Emirates\", \"type\": \"scatter\", \"x\": [1994, 1995, 1996, 1997, 1998, 1999, 2000, 2001, 2002, 2003, 2004, 2005], \"y\": [10262, 15387, 12753, 60000, 40000, 35000, 30000, 47000, 7700, 3337, 110000, 110000]}, {\"line\": {\"color\": \"darkviolet\"}, \"name\": \"United States of America\", \"type\": \"scatter\", \"x\": [1994, 1995, 1996, 1997, 1998, 1999, 2000, 2001, 2002, 2003, 2004, 2005], \"y\": [383216, 397546, 408741, 418823, 416520, 418813, 400188, 406968, 416600, 427543, 445757, 449647]}],\n",
       "                        {\"template\": {\"data\": {\"bar\": [{\"error_x\": {\"color\": \"#2a3f5f\"}, \"error_y\": {\"color\": \"#2a3f5f\"}, \"marker\": {\"line\": {\"color\": \"#E5ECF6\", \"width\": 0.5}}, \"type\": \"bar\"}], \"barpolar\": [{\"marker\": {\"line\": {\"color\": \"#E5ECF6\", \"width\": 0.5}}, \"type\": \"barpolar\"}], \"carpet\": [{\"aaxis\": {\"endlinecolor\": \"#2a3f5f\", \"gridcolor\": \"white\", \"linecolor\": \"white\", \"minorgridcolor\": \"white\", \"startlinecolor\": \"#2a3f5f\"}, \"baxis\": {\"endlinecolor\": \"#2a3f5f\", \"gridcolor\": \"white\", \"linecolor\": \"white\", \"minorgridcolor\": \"white\", \"startlinecolor\": \"#2a3f5f\"}, \"type\": \"carpet\"}], \"choropleth\": [{\"colorbar\": {\"outlinewidth\": 0, \"ticks\": \"\"}, \"type\": \"choropleth\"}], \"contour\": [{\"colorbar\": {\"outlinewidth\": 0, \"ticks\": \"\"}, \"colorscale\": [[0.0, \"#0d0887\"], [0.1111111111111111, \"#46039f\"], [0.2222222222222222, \"#7201a8\"], [0.3333333333333333, \"#9c179e\"], [0.4444444444444444, \"#bd3786\"], [0.5555555555555556, \"#d8576b\"], [0.6666666666666666, \"#ed7953\"], [0.7777777777777778, \"#fb9f3a\"], [0.8888888888888888, \"#fdca26\"], [1.0, \"#f0f921\"]], \"type\": \"contour\"}], \"contourcarpet\": [{\"colorbar\": {\"outlinewidth\": 0, \"ticks\": \"\"}, \"type\": \"contourcarpet\"}], \"heatmap\": [{\"colorbar\": {\"outlinewidth\": 0, \"ticks\": \"\"}, \"colorscale\": [[0.0, \"#0d0887\"], [0.1111111111111111, \"#46039f\"], [0.2222222222222222, \"#7201a8\"], [0.3333333333333333, \"#9c179e\"], [0.4444444444444444, \"#bd3786\"], [0.5555555555555556, \"#d8576b\"], [0.6666666666666666, \"#ed7953\"], [0.7777777777777778, \"#fb9f3a\"], [0.8888888888888888, \"#fdca26\"], [1.0, \"#f0f921\"]], \"type\": \"heatmap\"}], \"heatmapgl\": [{\"colorbar\": {\"outlinewidth\": 0, \"ticks\": \"\"}, \"colorscale\": [[0.0, \"#0d0887\"], [0.1111111111111111, \"#46039f\"], [0.2222222222222222, \"#7201a8\"], [0.3333333333333333, \"#9c179e\"], [0.4444444444444444, \"#bd3786\"], [0.5555555555555556, \"#d8576b\"], [0.6666666666666666, \"#ed7953\"], [0.7777777777777778, \"#fb9f3a\"], [0.8888888888888888, \"#fdca26\"], [1.0, \"#f0f921\"]], \"type\": \"heatmapgl\"}], \"histogram\": [{\"marker\": {\"colorbar\": {\"outlinewidth\": 0, \"ticks\": \"\"}}, \"type\": \"histogram\"}], \"histogram2d\": [{\"colorbar\": {\"outlinewidth\": 0, \"ticks\": \"\"}, \"colorscale\": [[0.0, \"#0d0887\"], [0.1111111111111111, \"#46039f\"], [0.2222222222222222, \"#7201a8\"], [0.3333333333333333, \"#9c179e\"], [0.4444444444444444, \"#bd3786\"], [0.5555555555555556, \"#d8576b\"], [0.6666666666666666, \"#ed7953\"], [0.7777777777777778, \"#fb9f3a\"], [0.8888888888888888, \"#fdca26\"], [1.0, \"#f0f921\"]], \"type\": \"histogram2d\"}], \"histogram2dcontour\": [{\"colorbar\": {\"outlinewidth\": 0, \"ticks\": \"\"}, \"colorscale\": [[0.0, \"#0d0887\"], [0.1111111111111111, \"#46039f\"], [0.2222222222222222, \"#7201a8\"], [0.3333333333333333, \"#9c179e\"], [0.4444444444444444, \"#bd3786\"], [0.5555555555555556, \"#d8576b\"], [0.6666666666666666, \"#ed7953\"], [0.7777777777777778, \"#fb9f3a\"], [0.8888888888888888, \"#fdca26\"], [1.0, \"#f0f921\"]], \"type\": \"histogram2dcontour\"}], \"mesh3d\": [{\"colorbar\": {\"outlinewidth\": 0, \"ticks\": \"\"}, \"type\": \"mesh3d\"}], \"parcoords\": [{\"line\": {\"colorbar\": {\"outlinewidth\": 0, \"ticks\": \"\"}}, \"type\": \"parcoords\"}], \"scatter\": [{\"marker\": {\"colorbar\": {\"outlinewidth\": 0, \"ticks\": \"\"}}, \"type\": \"scatter\"}], \"scatter3d\": [{\"line\": {\"colorbar\": {\"outlinewidth\": 0, \"ticks\": \"\"}}, \"marker\": {\"colorbar\": {\"outlinewidth\": 0, \"ticks\": \"\"}}, \"type\": \"scatter3d\"}], \"scattercarpet\": [{\"marker\": {\"colorbar\": {\"outlinewidth\": 0, \"ticks\": \"\"}}, \"type\": \"scattercarpet\"}], \"scattergeo\": [{\"marker\": {\"colorbar\": {\"outlinewidth\": 0, \"ticks\": \"\"}}, \"type\": \"scattergeo\"}], \"scattergl\": [{\"marker\": {\"colorbar\": {\"outlinewidth\": 0, \"ticks\": \"\"}}, \"type\": \"scattergl\"}], \"scattermapbox\": [{\"marker\": {\"colorbar\": {\"outlinewidth\": 0, \"ticks\": \"\"}}, \"type\": \"scattermapbox\"}], \"scatterpolar\": [{\"marker\": {\"colorbar\": {\"outlinewidth\": 0, \"ticks\": \"\"}}, \"type\": \"scatterpolar\"}], \"scatterpolargl\": [{\"marker\": {\"colorbar\": {\"outlinewidth\": 0, \"ticks\": \"\"}}, \"type\": \"scatterpolargl\"}], \"scatterternary\": [{\"marker\": {\"colorbar\": {\"outlinewidth\": 0, \"ticks\": \"\"}}, \"type\": \"scatterternary\"}], \"surface\": [{\"colorbar\": {\"outlinewidth\": 0, \"ticks\": \"\"}, \"colorscale\": [[0.0, \"#0d0887\"], [0.1111111111111111, \"#46039f\"], [0.2222222222222222, \"#7201a8\"], [0.3333333333333333, \"#9c179e\"], [0.4444444444444444, \"#bd3786\"], [0.5555555555555556, \"#d8576b\"], [0.6666666666666666, \"#ed7953\"], [0.7777777777777778, \"#fb9f3a\"], [0.8888888888888888, \"#fdca26\"], [1.0, \"#f0f921\"]], \"type\": \"surface\"}], \"table\": [{\"cells\": {\"fill\": {\"color\": \"#EBF0F8\"}, \"line\": {\"color\": \"white\"}}, \"header\": {\"fill\": {\"color\": \"#C8D4E3\"}, \"line\": {\"color\": \"white\"}}, \"type\": \"table\"}]}, \"layout\": {\"annotationdefaults\": {\"arrowcolor\": \"#2a3f5f\", \"arrowhead\": 0, \"arrowwidth\": 1}, \"colorscale\": {\"diverging\": [[0, \"#8e0152\"], [0.1, \"#c51b7d\"], [0.2, \"#de77ae\"], [0.3, \"#f1b6da\"], [0.4, \"#fde0ef\"], [0.5, \"#f7f7f7\"], [0.6, \"#e6f5d0\"], [0.7, \"#b8e186\"], [0.8, \"#7fbc41\"], [0.9, \"#4d9221\"], [1, \"#276419\"]], \"sequential\": [[0.0, \"#0d0887\"], [0.1111111111111111, \"#46039f\"], [0.2222222222222222, \"#7201a8\"], [0.3333333333333333, \"#9c179e\"], [0.4444444444444444, \"#bd3786\"], [0.5555555555555556, \"#d8576b\"], [0.6666666666666666, \"#ed7953\"], [0.7777777777777778, \"#fb9f3a\"], [0.8888888888888888, \"#fdca26\"], [1.0, \"#f0f921\"]], \"sequentialminus\": [[0.0, \"#0d0887\"], [0.1111111111111111, \"#46039f\"], [0.2222222222222222, \"#7201a8\"], [0.3333333333333333, \"#9c179e\"], [0.4444444444444444, \"#bd3786\"], [0.5555555555555556, \"#d8576b\"], [0.6666666666666666, \"#ed7953\"], [0.7777777777777778, \"#fb9f3a\"], [0.8888888888888888, \"#fdca26\"], [1.0, \"#f0f921\"]]}, \"colorway\": [\"#636efa\", \"#EF553B\", \"#00cc96\", \"#ab63fa\", \"#FFA15A\", \"#19d3f3\", \"#FF6692\", \"#B6E880\", \"#FF97FF\", \"#FECB52\"], \"font\": {\"color\": \"#2a3f5f\"}, \"geo\": {\"bgcolor\": \"white\", \"lakecolor\": \"white\", \"landcolor\": \"#E5ECF6\", \"showlakes\": true, \"showland\": true, \"subunitcolor\": \"white\"}, \"hoverlabel\": {\"align\": \"left\"}, \"hovermode\": \"closest\", \"mapbox\": {\"style\": \"light\"}, \"paper_bgcolor\": \"white\", \"plot_bgcolor\": \"#E5ECF6\", \"polar\": {\"angularaxis\": {\"gridcolor\": \"white\", \"linecolor\": \"white\", \"ticks\": \"\"}, \"bgcolor\": \"#E5ECF6\", \"radialaxis\": {\"gridcolor\": \"white\", \"linecolor\": \"white\", \"ticks\": \"\"}}, \"scene\": {\"xaxis\": {\"backgroundcolor\": \"#E5ECF6\", \"gridcolor\": \"white\", \"gridwidth\": 2, \"linecolor\": \"white\", \"showbackground\": true, \"ticks\": \"\", \"zerolinecolor\": \"white\"}, \"yaxis\": {\"backgroundcolor\": \"#E5ECF6\", \"gridcolor\": \"white\", \"gridwidth\": 2, \"linecolor\": \"white\", \"showbackground\": true, \"ticks\": \"\", \"zerolinecolor\": \"white\"}, \"zaxis\": {\"backgroundcolor\": \"#E5ECF6\", \"gridcolor\": \"white\", \"gridwidth\": 2, \"linecolor\": \"white\", \"showbackground\": true, \"ticks\": \"\", \"zerolinecolor\": \"white\"}}, \"shapedefaults\": {\"line\": {\"color\": \"#2a3f5f\"}}, \"ternary\": {\"aaxis\": {\"gridcolor\": \"white\", \"linecolor\": \"white\", \"ticks\": \"\"}, \"baxis\": {\"gridcolor\": \"white\", \"linecolor\": \"white\", \"ticks\": \"\"}, \"bgcolor\": \"#E5ECF6\", \"caxis\": {\"gridcolor\": \"white\", \"linecolor\": \"white\", \"ticks\": \"\"}}, \"title\": {\"x\": 0.05}, \"xaxis\": {\"automargin\": true, \"gridcolor\": \"white\", \"linecolor\": \"white\", \"ticks\": \"\", \"zerolinecolor\": \"white\", \"zerolinewidth\": 2}, \"yaxis\": {\"automargin\": true, \"gridcolor\": \"white\", \"linecolor\": \"white\", \"ticks\": \"\", \"zerolinecolor\": \"white\", \"zerolinewidth\": 2}}}, \"title\": {\"text\": \"Banana Export\"}, \"xaxis\": {\"rangeslider\": {\"visible\": true}}},\n",
       "                        {\"responsive\": true}\n",
       "                    ).then(function(){\n",
       "                            \n",
       "var gd = document.getElementById('2c9475cc-34f8-472a-9844-9a86ed2d66dc');\n",
       "var x = new MutationObserver(function (mutations, observer) {{\n",
       "        var display = window.getComputedStyle(gd).display;\n",
       "        if (!display || display === 'none') {{\n",
       "            console.log([gd, 'removed!']);\n",
       "            Plotly.purge(gd);\n",
       "            observer.disconnect();\n",
       "        }}\n",
       "}});\n",
       "\n",
       "// Listen for the removal of the full notebook cells\n",
       "var notebookContainer = gd.closest('#notebook-container');\n",
       "if (notebookContainer) {{\n",
       "    x.observe(notebookContainer, {childList: true});\n",
       "}}\n",
       "\n",
       "// Listen for the clearing of the current output cell\n",
       "var outputEl = gd.closest('.output');\n",
       "if (outputEl) {{\n",
       "    x.observe(outputEl, {childList: true});\n",
       "}}\n",
       "\n",
       "                        })\n",
       "                };\n",
       "                });\n",
       "            </script>\n",
       "        </div>"
      ]
     },
     "metadata": {},
     "output_type": "display_data"
    }
   ],
   "source": [
    "fig = go.Figure()\n",
    "\n",
    "banana1=banana[banana['Area']=='Belgium-Luxembourg']\n",
    "fig.add_trace(go.Scatter(x=banana1['Year'],\n",
    "                        y=banana1['Value'],\n",
    "                        name=\"Belgium-Luxembourg\",\n",
    "                        line_color='deepskyblue'))\n",
    "\n",
    "banana2=banana[banana['Area']=='Cameroon']\n",
    "fig.add_trace(go.Scatter(x=banana2['Year'],\n",
    "                        y=banana2['Value'],\n",
    "                        name=\"Cameroon\",\n",
    "                        line_color='aliceblue'))\n",
    "banana3=banana[banana['Area']=='Colombia']\n",
    "fig.add_trace(go.Scatter(x=banana3['Year'],\n",
    "                        y=banana3['Value'],\n",
    "                        name=\"Colombia\",\n",
    "                        line_color='antiquewhite'))\n",
    "banana4=banana[banana['Area']=='Costa Rica']\n",
    "fig.add_trace(go.Scatter(x=banana4['Year'],\n",
    "                        y=banana4['Value'],\n",
    "                        name=\"Costa Rica\",\n",
    "                        line_color='aquamarine'))\n",
    "banana5=banana[banana['Area']=='Ecuador']\n",
    "fig.add_trace(go.Scatter(x=banana5['Year'],\n",
    "                        y=banana5['Value'],\n",
    "                        name=\"Ecuador\",\n",
    "                        line_color='burlywood'))\n",
    "banana6=banana[banana['Area']=='Guatemala']\n",
    "fig.add_trace(go.Scatter(x=banana6['Year'],\n",
    "                        y=banana6['Value'],\n",
    "                        name=\"Guatemala\",\n",
    "                        line_color='hotpink'))\n",
    "banana7=banana[banana['Area']=='Honduras']\n",
    "fig.add_trace(go.Scatter(x=banana7['Year'],\n",
    "                        y=banana7['Value'],\n",
    "                        name=\"Honduras\",\n",
    "                        line_color='lavenderblush'))\n",
    "banana8=banana[banana['Area']=='Panama']\n",
    "fig.add_trace(go.Scatter(x=banana8['Year'],\n",
    "                        y=banana8['Value'],\n",
    "                        name=\"Panama\",\n",
    "                        line_color='lawngreen'))\n",
    "banana9=banana[banana['Area']=='Philippines']\n",
    "fig.add_trace(go.Scatter(x=banana9['Year'],\n",
    "                        y=banana9['Value'],\n",
    "                        name=\"Philippines\",\n",
    "                        line_color='firebrick'))\n",
    "banana10=banana[banana['Area']=='United Arab Emirates']\n",
    "fig.add_trace(go.Scatter(x=banana10['Year'],\n",
    "                        y=banana10['Value'],\n",
    "                        name=\"United Arab Emirates\",\n",
    "                        line_color='deeppink'))\n",
    "banana11=banana[banana['Area']=='United States of America']\n",
    "fig.add_trace(go.Scatter(x=banana11['Year'],\n",
    "                        y=banana11['Value'],\n",
    "                        name=\"United States of America\",\n",
    "                        line_color='darkviolet'))\n",
    "\n",
    "\n",
    "fig.update_layout(title_text='Banana Export', \n",
    "                  xaxis_rangeslider_visible=True)\n",
    "fig.show()"
   ]
  },
  {
   "cell_type": "code",
   "execution_count": 76,
   "metadata": {},
   "outputs": [
    {
     "data": {
      "text/html": [
       "<div>\n",
       "<style scoped>\n",
       "    .dataframe tbody tr th:only-of-type {\n",
       "        vertical-align: middle;\n",
       "    }\n",
       "\n",
       "    .dataframe tbody tr th {\n",
       "        vertical-align: top;\n",
       "    }\n",
       "\n",
       "    .dataframe thead th {\n",
       "        text-align: right;\n",
       "    }\n",
       "</style>\n",
       "<table border=\"1\" class=\"dataframe\">\n",
       "  <thead>\n",
       "    <tr style=\"text-align: right;\">\n",
       "      <th></th>\n",
       "      <th>Domain Code</th>\n",
       "      <th>Domain</th>\n",
       "      <th>Area Code</th>\n",
       "      <th>Area</th>\n",
       "      <th>Element Code</th>\n",
       "      <th>Element</th>\n",
       "      <th>Item Code</th>\n",
       "      <th>Item</th>\n",
       "      <th>Year Code</th>\n",
       "      <th>Year</th>\n",
       "      <th>Unit</th>\n",
       "      <th>Value</th>\n",
       "      <th>Flag</th>\n",
       "      <th>Flag Description</th>\n",
       "    </tr>\n",
       "  </thead>\n",
       "  <tbody>\n",
       "    <tr>\n",
       "      <td>0</td>\n",
       "      <td>TP</td>\n",
       "      <td>Crops and livestock products</td>\n",
       "      <td>15</td>\n",
       "      <td>Belgium-Luxembourg</td>\n",
       "      <td>5910</td>\n",
       "      <td>Export Quantity</td>\n",
       "      <td>486</td>\n",
       "      <td>Bananas</td>\n",
       "      <td>1994</td>\n",
       "      <td>1994</td>\n",
       "      <td>tonnes</td>\n",
       "      <td>505145</td>\n",
       "      <td>NaN</td>\n",
       "      <td>Official data</td>\n",
       "    </tr>\n",
       "    <tr>\n",
       "      <td>1</td>\n",
       "      <td>TP</td>\n",
       "      <td>Crops and livestock products</td>\n",
       "      <td>15</td>\n",
       "      <td>Belgium-Luxembourg</td>\n",
       "      <td>5910</td>\n",
       "      <td>Export Quantity</td>\n",
       "      <td>486</td>\n",
       "      <td>Bananas</td>\n",
       "      <td>1995</td>\n",
       "      <td>1995</td>\n",
       "      <td>tonnes</td>\n",
       "      <td>829256</td>\n",
       "      <td>NaN</td>\n",
       "      <td>Official data</td>\n",
       "    </tr>\n",
       "    <tr>\n",
       "      <td>2</td>\n",
       "      <td>TP</td>\n",
       "      <td>Crops and livestock products</td>\n",
       "      <td>15</td>\n",
       "      <td>Belgium-Luxembourg</td>\n",
       "      <td>5910</td>\n",
       "      <td>Export Quantity</td>\n",
       "      <td>486</td>\n",
       "      <td>Bananas</td>\n",
       "      <td>1996</td>\n",
       "      <td>1996</td>\n",
       "      <td>tonnes</td>\n",
       "      <td>869070</td>\n",
       "      <td>NaN</td>\n",
       "      <td>Official data</td>\n",
       "    </tr>\n",
       "    <tr>\n",
       "      <td>3</td>\n",
       "      <td>TP</td>\n",
       "      <td>Crops and livestock products</td>\n",
       "      <td>15</td>\n",
       "      <td>Belgium-Luxembourg</td>\n",
       "      <td>5910</td>\n",
       "      <td>Export Quantity</td>\n",
       "      <td>486</td>\n",
       "      <td>Bananas</td>\n",
       "      <td>1997</td>\n",
       "      <td>1997</td>\n",
       "      <td>tonnes</td>\n",
       "      <td>808092</td>\n",
       "      <td>NaN</td>\n",
       "      <td>Official data</td>\n",
       "    </tr>\n",
       "    <tr>\n",
       "      <td>4</td>\n",
       "      <td>TP</td>\n",
       "      <td>Crops and livestock products</td>\n",
       "      <td>15</td>\n",
       "      <td>Belgium-Luxembourg</td>\n",
       "      <td>5910</td>\n",
       "      <td>Export Quantity</td>\n",
       "      <td>486</td>\n",
       "      <td>Bananas</td>\n",
       "      <td>1998</td>\n",
       "      <td>1998</td>\n",
       "      <td>tonnes</td>\n",
       "      <td>837966</td>\n",
       "      <td>NaN</td>\n",
       "      <td>Official data</td>\n",
       "    </tr>\n",
       "    <tr>\n",
       "      <td>...</td>\n",
       "      <td>...</td>\n",
       "      <td>...</td>\n",
       "      <td>...</td>\n",
       "      <td>...</td>\n",
       "      <td>...</td>\n",
       "      <td>...</td>\n",
       "      <td>...</td>\n",
       "      <td>...</td>\n",
       "      <td>...</td>\n",
       "      <td>...</td>\n",
       "      <td>...</td>\n",
       "      <td>...</td>\n",
       "      <td>...</td>\n",
       "      <td>...</td>\n",
       "    </tr>\n",
       "    <tr>\n",
       "      <td>235</td>\n",
       "      <td>TP</td>\n",
       "      <td>Crops and livestock products</td>\n",
       "      <td>231</td>\n",
       "      <td>United States of America</td>\n",
       "      <td>5910</td>\n",
       "      <td>Export Quantity</td>\n",
       "      <td>486</td>\n",
       "      <td>Bananas</td>\n",
       "      <td>2001</td>\n",
       "      <td>2001</td>\n",
       "      <td>tonnes</td>\n",
       "      <td>406968</td>\n",
       "      <td>NaN</td>\n",
       "      <td>Official data</td>\n",
       "    </tr>\n",
       "    <tr>\n",
       "      <td>236</td>\n",
       "      <td>TP</td>\n",
       "      <td>Crops and livestock products</td>\n",
       "      <td>231</td>\n",
       "      <td>United States of America</td>\n",
       "      <td>5910</td>\n",
       "      <td>Export Quantity</td>\n",
       "      <td>486</td>\n",
       "      <td>Bananas</td>\n",
       "      <td>2002</td>\n",
       "      <td>2002</td>\n",
       "      <td>tonnes</td>\n",
       "      <td>416600</td>\n",
       "      <td>NaN</td>\n",
       "      <td>Official data</td>\n",
       "    </tr>\n",
       "    <tr>\n",
       "      <td>237</td>\n",
       "      <td>TP</td>\n",
       "      <td>Crops and livestock products</td>\n",
       "      <td>231</td>\n",
       "      <td>United States of America</td>\n",
       "      <td>5910</td>\n",
       "      <td>Export Quantity</td>\n",
       "      <td>486</td>\n",
       "      <td>Bananas</td>\n",
       "      <td>2003</td>\n",
       "      <td>2003</td>\n",
       "      <td>tonnes</td>\n",
       "      <td>427543</td>\n",
       "      <td>NaN</td>\n",
       "      <td>Official data</td>\n",
       "    </tr>\n",
       "    <tr>\n",
       "      <td>238</td>\n",
       "      <td>TP</td>\n",
       "      <td>Crops and livestock products</td>\n",
       "      <td>231</td>\n",
       "      <td>United States of America</td>\n",
       "      <td>5910</td>\n",
       "      <td>Export Quantity</td>\n",
       "      <td>486</td>\n",
       "      <td>Bananas</td>\n",
       "      <td>2004</td>\n",
       "      <td>2004</td>\n",
       "      <td>tonnes</td>\n",
       "      <td>445757</td>\n",
       "      <td>NaN</td>\n",
       "      <td>Official data</td>\n",
       "    </tr>\n",
       "    <tr>\n",
       "      <td>239</td>\n",
       "      <td>TP</td>\n",
       "      <td>Crops and livestock products</td>\n",
       "      <td>231</td>\n",
       "      <td>United States of America</td>\n",
       "      <td>5910</td>\n",
       "      <td>Export Quantity</td>\n",
       "      <td>486</td>\n",
       "      <td>Bananas</td>\n",
       "      <td>2005</td>\n",
       "      <td>2005</td>\n",
       "      <td>tonnes</td>\n",
       "      <td>449647</td>\n",
       "      <td>NaN</td>\n",
       "      <td>Official data</td>\n",
       "    </tr>\n",
       "  </tbody>\n",
       "</table>\n",
       "<p>126 rows × 14 columns</p>\n",
       "</div>"
      ],
      "text/plain": [
       "    Domain Code                        Domain  Area Code  \\\n",
       "0            TP  Crops and livestock products         15   \n",
       "1            TP  Crops and livestock products         15   \n",
       "2            TP  Crops and livestock products         15   \n",
       "3            TP  Crops and livestock products         15   \n",
       "4            TP  Crops and livestock products         15   \n",
       "..          ...                           ...        ...   \n",
       "235          TP  Crops and livestock products        231   \n",
       "236          TP  Crops and livestock products        231   \n",
       "237          TP  Crops and livestock products        231   \n",
       "238          TP  Crops and livestock products        231   \n",
       "239          TP  Crops and livestock products        231   \n",
       "\n",
       "                         Area  Element Code          Element  Item Code  \\\n",
       "0          Belgium-Luxembourg          5910  Export Quantity        486   \n",
       "1          Belgium-Luxembourg          5910  Export Quantity        486   \n",
       "2          Belgium-Luxembourg          5910  Export Quantity        486   \n",
       "3          Belgium-Luxembourg          5910  Export Quantity        486   \n",
       "4          Belgium-Luxembourg          5910  Export Quantity        486   \n",
       "..                        ...           ...              ...        ...   \n",
       "235  United States of America          5910  Export Quantity        486   \n",
       "236  United States of America          5910  Export Quantity        486   \n",
       "237  United States of America          5910  Export Quantity        486   \n",
       "238  United States of America          5910  Export Quantity        486   \n",
       "239  United States of America          5910  Export Quantity        486   \n",
       "\n",
       "        Item  Year Code  Year    Unit   Value Flag Flag Description  \n",
       "0    Bananas       1994  1994  tonnes  505145  NaN    Official data  \n",
       "1    Bananas       1995  1995  tonnes  829256  NaN    Official data  \n",
       "2    Bananas       1996  1996  tonnes  869070  NaN    Official data  \n",
       "3    Bananas       1997  1997  tonnes  808092  NaN    Official data  \n",
       "4    Bananas       1998  1998  tonnes  837966  NaN    Official data  \n",
       "..       ...        ...   ...     ...     ...  ...              ...  \n",
       "235  Bananas       2001  2001  tonnes  406968  NaN    Official data  \n",
       "236  Bananas       2002  2002  tonnes  416600  NaN    Official data  \n",
       "237  Bananas       2003  2003  tonnes  427543  NaN    Official data  \n",
       "238  Bananas       2004  2004  tonnes  445757  NaN    Official data  \n",
       "239  Bananas       2005  2005  tonnes  449647  NaN    Official data  \n",
       "\n",
       "[126 rows x 14 columns]"
      ]
     },
     "execution_count": 76,
     "metadata": {},
     "output_type": "execute_result"
    }
   ],
   "source": [
    "\n",
    "banana"
   ]
  },
  {
   "cell_type": "code",
   "execution_count": null,
   "metadata": {},
   "outputs": [],
   "source": []
  }
 ],
 "metadata": {
  "kernelspec": {
   "display_name": "Python 3",
   "language": "python",
   "name": "python3"
  },
  "language_info": {
   "codemirror_mode": {
    "name": "ipython",
    "version": 3
   },
   "file_extension": ".py",
   "mimetype": "text/x-python",
   "name": "python",
   "nbconvert_exporter": "python",
   "pygments_lexer": "ipython3",
   "version": "3.7.3"
  }
 },
 "nbformat": 4,
 "nbformat_minor": 2
}
