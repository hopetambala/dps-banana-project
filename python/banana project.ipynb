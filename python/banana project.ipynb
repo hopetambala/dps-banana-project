{
 "cells": [
  {
   "cell_type": "code",
   "execution_count": 1,
   "metadata": {},
   "outputs": [
    {
     "name": "stdout",
     "output_type": "stream",
     "text": [
      "Collecting package metadata (current_repodata.json): ...working... done\n",
      "Solving environment: ...working... done\n",
      "\n",
      "## Package Plan ##\n",
      "\n",
      "  environment location: C:\\Users\\wenji\\AppData\\Local\\Continuum\\anaconda3\n",
      "\n",
      "  added / updated specs:\n",
      "    - plotly\n",
      "\n",
      "\n",
      "The following packages will be SUPERSEDED by a higher-priority channel:\n",
      "\n",
      "  plotly                          plotly::plotly-4.2.1-py_0 --> pkgs/main::plotly-4.1.1-py_0\n",
      "\n",
      "\n",
      "Preparing transaction: ...working... done\n",
      "Verifying transaction: ...working... done\n",
      "Executing transaction: ...working... done\n"
     ]
    }
   ],
   "source": [
    "import sys\n",
    "!conda install --yes --prefix {sys.prefix} plotly"
   ]
  },
  {
   "cell_type": "code",
   "execution_count": 46,
   "metadata": {},
   "outputs": [],
   "source": [
    "#example\n",
    "#import plotly.express as px\n",
    "#gapminder = px.data.gapminder().query(\"continent=='Europe'\")\n",
    "#fig = px.line_3d(gapminder, x=\"gdpPercap\", y=\"pop\", z=\"year\", color='country')\n",
    "#fig.show()"
   ]
  },
  {
   "cell_type": "code",
   "execution_count": 2,
   "metadata": {},
   "outputs": [],
   "source": [
    "import pandas as pd\n",
    "import numpy as np\n",
    "import plotly.graph_objects as go\n",
    "#banana = np.recfromcsv('FAOSTAT_data_10-18-2019.csv', delimiter=\",\", names=True, dtype=None)\n",
    "#url='https://github.com/hopetambala/dps-banana-project/blob/master/FAOSTAT_data_10-18-2019.csv'\n",
    "banana = pd.read_csv('FAOSTAT_data_10-18-2019.csv')\n",
    "years = [\"1994\", \"1995\", \"1996\", \"1997\", \"1998\", \"1999\", \"2000\", \"2001\", \"2002\", \"2003\",\n",
    "         \"2004\", \"2005\"]"
   ]
  },
  {
   "cell_type": "code",
   "execution_count": 3,
   "metadata": {},
   "outputs": [
    {
     "data": {
      "text/plain": [
       "<bound method DataFrame.info of     Domain Code                        Domain  Area Code  \\\n",
       "0            TP  Crops and livestock products         15   \n",
       "1            TP  Crops and livestock products         15   \n",
       "2            TP  Crops and livestock products         15   \n",
       "3            TP  Crops and livestock products         15   \n",
       "4            TP  Crops and livestock products         15   \n",
       "..          ...                           ...        ...   \n",
       "247          TP  Crops and livestock products        231   \n",
       "248          TP  Crops and livestock products        231   \n",
       "249          TP  Crops and livestock products        231   \n",
       "250          TP  Crops and livestock products        231   \n",
       "251          TP  Crops and livestock products        231   \n",
       "\n",
       "                         Area  Element Code          Element  Item Code  \\\n",
       "0          Belgium-Luxembourg          5910  Export Quantity        486   \n",
       "1          Belgium-Luxembourg          5910  Export Quantity        486   \n",
       "2          Belgium-Luxembourg          5910  Export Quantity        486   \n",
       "3          Belgium-Luxembourg          5910  Export Quantity        486   \n",
       "4          Belgium-Luxembourg          5910  Export Quantity        486   \n",
       "..                        ...           ...              ...        ...   \n",
       "247  United States of America          5922     Export Value        486   \n",
       "248  United States of America          5922     Export Value        486   \n",
       "249  United States of America          5922     Export Value        486   \n",
       "250  United States of America          5922     Export Value        486   \n",
       "251  United States of America          5922     Export Value        486   \n",
       "\n",
       "        Item  Year Code  Year      Unit   Value Flag Flag Description  \n",
       "0    Bananas       1994  1994    tonnes  505145  NaN    Official data  \n",
       "1    Bananas       1995  1995    tonnes  829256  NaN    Official data  \n",
       "2    Bananas       1996  1996    tonnes  869070  NaN    Official data  \n",
       "3    Bananas       1997  1997    tonnes  808092  NaN    Official data  \n",
       "4    Bananas       1998  1998    tonnes  837966  NaN    Official data  \n",
       "..       ...        ...   ...       ...     ...  ...              ...  \n",
       "247  Bananas       2001  2001  1000 US$  162005  NaN    Official data  \n",
       "248  Bananas       2002  2002  1000 US$  171785  NaN    Official data  \n",
       "249  Bananas       2003  2003  1000 US$  199763  NaN    Official data  \n",
       "250  Bananas       2004  2004  1000 US$  197088  NaN    Official data  \n",
       "251  Bananas       2005  2005  1000 US$  218548  NaN    Official data  \n",
       "\n",
       "[252 rows x 14 columns]>"
      ]
     },
     "execution_count": 3,
     "metadata": {},
     "output_type": "execute_result"
    }
   ],
   "source": [
    "banana.info"
   ]
  },
  {
   "cell_type": "code",
   "execution_count": 37,
   "metadata": {},
   "outputs": [],
   "source": [
    "# make list of areas\n",
    "Area = []\n",
    "for area in banana[\"Area\"]:\n",
    "    if area not in Area:\n",
    "        Area.append(area)\n",
    "# 11 areas list below:\n",
    "# 'Belgium-Luxembourg', 'Cameroon', 'Colombia', 'Costa Rica', 'Ecuador', 'Guatemala', 'Honduras', 'Panama', 'Philippines',\n",
    "# 'United Arab Emirates', 'United States of America'"
   ]
  },
  {
   "cell_type": "code",
   "execution_count": 38,
   "metadata": {},
   "outputs": [],
   "source": [
    "# make figure\n",
    "fig_dict = {\n",
    "    \"data\": [],\n",
    "    \"layout\": {},\n",
    "    \"frames\": []\n",
    "}"
   ]
  },
  {
   "cell_type": "code",
   "execution_count": 39,
   "metadata": {},
   "outputs": [],
   "source": [
    "banana1=banana[banana['Unit']=='tonnes']\n",
    "banana2=banana[banana['Unit']=='1000 US$']"
   ]
  },
  {
   "cell_type": "code",
   "execution_count": 40,
   "metadata": {},
   "outputs": [
    {
     "data": {
      "text/plain": [
       "1401"
      ]
     },
     "execution_count": 40,
     "metadata": {},
     "output_type": "execute_result"
    }
   ],
   "source": [
    "min(banana1['Value'])\n",
    "min(banana2['Value'])"
   ]
  },
  {
   "cell_type": "code",
   "execution_count": 41,
   "metadata": {},
   "outputs": [
    {
     "data": {
      "text/plain": [
       "1311639"
      ]
     },
     "execution_count": 41,
     "metadata": {},
     "output_type": "execute_result"
    }
   ],
   "source": [
    "max(banana1['Value'])\n",
    "max(banana2['Value'])"
   ]
  },
  {
   "cell_type": "code",
   "execution_count": 42,
   "metadata": {},
   "outputs": [],
   "source": [
    "# fill in most of layout\n",
    "fig_dict[\"layout\"][\"xaxis\"] = {\"range\": [3000, 4900000], \"title\": \"Banana Values(tonnes)\"}\n",
    "fig_dict[\"layout\"][\"yaxis\"] = {\"range\": [1300, 1400000],\"title\": \"Banana Values(1000 US$)\"}\n",
    "fig_dict[\"layout\"][\"hovermode\"] = \"closest\"\n",
    "fig_dict[\"layout\"][\"sliders\"] = {\n",
    "    \"args\": [\n",
    "        \"transition\", {\n",
    "            \"duration\": 400,\n",
    "            \"easing\": \"cubic-in-out\"\n",
    "        }\n",
    "    ],\n",
    "    \"initialValue\": \"1994\",\n",
    "    \"plotlycommand\": \"animate\",\n",
    "    \"values\": years,\n",
    "    \"visible\": True\n",
    "}\n",
    "\n",
    "fig_dict[\"layout\"][\"updatemenus\"] = [\n",
    "    {\n",
    "        \"buttons\": [\n",
    "            {\n",
    "                \"args\": [None, {\"frame\": {\"duration\": 500, \"redraw\": False},\n",
    "                                \"fromcurrent\": True, \"transition\": {\"duration\": 300,\n",
    "                                                                    \"easing\": \"quadratic-in-out\"}}],\n",
    "                \"label\": \"Play\",\n",
    "                \"method\": \"animate\"\n",
    "            },\n",
    "            {\n",
    "                \"args\": [[None], {\"frame\": {\"duration\": 0, \"redraw\": False},\n",
    "                                  \"mode\": \"immediate\",\n",
    "                                  \"transition\": {\"duration\": 0}}],\n",
    "                \"label\": \"Pause\",\n",
    "                \"method\": \"animate\"\n",
    "            }\n",
    "        ],\n",
    "        \"direction\": \"left\",\n",
    "        \"pad\": {\"r\": 10, \"t\": 87},\n",
    "        \"showactive\": False,\n",
    "        \"type\": \"buttons\",\n",
    "        \"x\": 0.1,\n",
    "        \"xanchor\": \"right\",\n",
    "        \"y\": 0,\n",
    "        \"yanchor\": \"top\"\n",
    "    }\n",
    "]\n",
    "\n",
    "sliders_dict = {\n",
    "    \"active\": 0,\n",
    "    \"yanchor\": \"top\",\n",
    "    \"xanchor\": \"left\",\n",
    "    \"currentvalue\": {\n",
    "        \"font\": {\"size\": 20},\n",
    "        \"prefix\": \"Year:\",\n",
    "        \"visible\": True,\n",
    "        \"xanchor\": \"right\"\n",
    "    },\n",
    "    \"transition\": {\"duration\": 300, \"easing\": \"cubic-in-out\"},\n",
    "    \"pad\": {\"b\": 10, \"t\": 50},\n",
    "    \"len\": 0.9,\n",
    "    \"x\": 0.1,\n",
    "    \"y\": 0,\n",
    "    \"steps\": []\n",
    "}"
   ]
  },
  {
   "cell_type": "code",
   "execution_count": 43,
   "metadata": {},
   "outputs": [],
   "source": [
    "# make data\n",
    "year = 1994\n",
    "for area in Area:\n",
    "    dataset_by_year = banana[banana[\"Year\"] == year]\n",
    "    dataset_by_year_and_area = dataset_by_year[\n",
    "        dataset_by_year[\"Area\"] == area]\n",
    "    dataset_by_year_and_area1 = dataset_by_year_and_area[\n",
    "        dataset_by_year_and_area['Unit']=='tonnes']\n",
    "    dataset_by_year_and_area2 = dataset_by_year_and_area[\n",
    "        dataset_by_year_and_area['Unit']=='1000 US$']\n",
    "\n",
    "    data_dict = {\n",
    "        \"x\": list(dataset_by_year_and_area1['Value']),\n",
    "        \"y\": list(dataset_by_year_and_area2['Value']),\n",
    "        \"mode\": \"markers\",\n",
    "        \"text\": list(dataset_by_year_and_area1[\"Area\"]),\n",
    "        \"marker\": {\n",
    "            \"sizemode\": \"area\",\n",
    "            \"sizeref\": 20000,\n",
    "            \"size\": list(dataset_by_year_and_area1[\"Value\"])\n",
    "        },\n",
    "        \"name\": area\n",
    "    }\n",
    "    fig_dict[\"data\"].append(data_dict)\n"
   ]
  },
  {
   "cell_type": "code",
   "execution_count": 44,
   "metadata": {},
   "outputs": [],
   "source": [
    "# make frames\n",
    "for year in years:\n",
    "    frame = {\"data\": [], \"name\": str(year)}\n",
    "    for area in Area:\n",
    "        dataset_by_year = banana[banana[\"Year\"] == int(year)]\n",
    "        dataset_by_year_and_area = dataset_by_year[\n",
    "            dataset_by_year[\"Area\"] == area]\n",
    "        dataset_by_year_and_area1 = dataset_by_year_and_area[\n",
    "        dataset_by_year_and_area['Unit']=='tonnes']\n",
    "        dataset_by_year_and_area2 = dataset_by_year_and_area[\n",
    "        dataset_by_year_and_area['Unit']=='1000 US$']\n",
    "\n",
    "        data_dict = {\n",
    "            \"x\": list(dataset_by_year_and_area1[\"Value\"]),\n",
    "            \"y\": list(dataset_by_year_and_area2[\"Value\"]),\n",
    "            \"mode\": \"markers\",\n",
    "            \"text\": list(dataset_by_year_and_area1[\"Area\"]),\n",
    "            \"marker\": {\n",
    "                \"sizemode\": \"area\",\n",
    "                \"sizeref\": 20000,\n",
    "                \"size\": list(dataset_by_year_and_area1[\"Value\"])\n",
    "            },\n",
    "            \"name\": area\n",
    "        }\n",
    "        frame[\"data\"].append(data_dict)\n",
    "\n",
    "    fig_dict[\"frames\"].append(frame)\n",
    "    slider_step = {\"args\": [\n",
    "        [year],\n",
    "        {\"frame\": {\"duration\": 300, \"redraw\": False},\n",
    "         \"mode\": \"immediate\",\n",
    "         \"transition\": {\"duration\": 300}}\n",
    "    ],\n",
    "        \"label\": year,\n",
    "        \"method\": \"animate\"}\n",
    "    sliders_dict[\"steps\"].append(slider_step)"
   ]
  },
  {
   "cell_type": "code",
   "execution_count": 45,
   "metadata": {},
   "outputs": [
    {
     "data": {
      "application/vnd.plotly.v1+json": {
       "config": {
        "plotlyServerURL": "https://plot.ly"
       },
       "data": [
        {
         "marker": {
          "size": [
           505145
          ],
          "sizemode": "area",
          "sizeref": 20000
         },
         "mode": "markers",
         "name": "Belgium-Luxembourg",
         "text": [
          "Belgium-Luxembourg"
         ],
         "type": "scatter",
         "x": [
          505145
         ],
         "y": [
          380631
         ]
        },
        {
         "marker": {
          "size": [
           165300
          ],
          "sizemode": "area",
          "sizeref": 20000
         },
         "mode": "markers",
         "name": "Cameroon",
         "text": [
          "Cameroon"
         ],
         "type": "scatter",
         "x": [
          165300
         ],
         "y": [
          60500
         ]
        },
        {
         "marker": {
          "size": [
           1703718
          ],
          "sizemode": "area",
          "sizeref": 20000
         },
         "mode": "markers",
         "name": "Colombia",
         "text": [
          "Colombia"
         ],
         "type": "scatter",
         "x": [
          1703718
         ],
         "y": [
          489524
         ]
        },
        {
         "marker": {
          "size": [
           1868894
          ],
          "sizemode": "area",
          "sizeref": 20000
         },
         "mode": "markers",
         "name": "Costa Rica",
         "text": [
          "Costa Rica"
         ],
         "type": "scatter",
         "x": [
          1868894
         ],
         "y": [
          535939
         ]
        },
        {
         "marker": {
          "size": [
           3007925
          ],
          "sizemode": "area",
          "sizeref": 20000
         },
         "mode": "markers",
         "name": "Ecuador",
         "text": [
          "Ecuador"
         ],
         "type": "scatter",
         "x": [
          3007925
         ],
         "y": [
          692170
         ]
        },
        {
         "marker": {
          "size": [
           567882
          ],
          "sizemode": "area",
          "sizeref": 20000
         },
         "mode": "markers",
         "name": "Guatemala",
         "text": [
          "Guatemala"
         ],
         "type": "scatter",
         "x": [
          567882
         ],
         "y": [
          113928
         ]
        },
        {
         "marker": {
          "size": [
           445612
          ],
          "sizemode": "area",
          "sizeref": 20000
         },
         "mode": "markers",
         "name": "Honduras",
         "text": [
          "Honduras"
         ],
         "type": "scatter",
         "x": [
          445612
         ],
         "y": [
          108109
         ]
        },
        {
         "marker": {
          "size": [
           712248
          ],
          "sizemode": "area",
          "sizeref": 20000
         },
         "mode": "markers",
         "name": "Panama",
         "text": [
          "Panama"
         ],
         "type": "scatter",
         "x": [
          712248
         ],
         "y": [
          197215
         ]
        },
        {
         "marker": {
          "size": [
           1155182
          ],
          "sizemode": "area",
          "sizeref": 20000
         },
         "mode": "markers",
         "name": "Philippines",
         "text": [
          "Philippines"
         ],
         "type": "scatter",
         "x": [
          1155182
         ],
         "y": [
          215274
         ]
        },
        {
         "marker": {
          "size": [
           10262
          ],
          "sizemode": "area",
          "sizeref": 20000
         },
         "mode": "markers",
         "name": "United Arab Emirates",
         "text": [
          "United Arab Emirates"
         ],
         "type": "scatter",
         "x": [
          10262
         ],
         "y": [
          6066
         ]
        },
        {
         "marker": {
          "size": [
           383216
          ],
          "sizemode": "area",
          "sizeref": 20000
         },
         "mode": "markers",
         "name": "United States of America",
         "text": [
          "United States of America"
         ],
         "type": "scatter",
         "x": [
          383216
         ],
         "y": [
          189135
         ]
        }
       ],
       "frames": [
        {
         "data": [
          {
           "marker": {
            "size": [
             505145
            ],
            "sizemode": "area",
            "sizeref": 20000
           },
           "mode": "markers",
           "name": "Belgium-Luxembourg",
           "text": [
            "Belgium-Luxembourg"
           ],
           "type": "scatter",
           "x": [
            505145
           ],
           "y": [
            380631
           ]
          },
          {
           "marker": {
            "size": [
             165300
            ],
            "sizemode": "area",
            "sizeref": 20000
           },
           "mode": "markers",
           "name": "Cameroon",
           "text": [
            "Cameroon"
           ],
           "type": "scatter",
           "x": [
            165300
           ],
           "y": [
            60500
           ]
          },
          {
           "marker": {
            "size": [
             1703718
            ],
            "sizemode": "area",
            "sizeref": 20000
           },
           "mode": "markers",
           "name": "Colombia",
           "text": [
            "Colombia"
           ],
           "type": "scatter",
           "x": [
            1703718
           ],
           "y": [
            489524
           ]
          },
          {
           "marker": {
            "size": [
             1868894
            ],
            "sizemode": "area",
            "sizeref": 20000
           },
           "mode": "markers",
           "name": "Costa Rica",
           "text": [
            "Costa Rica"
           ],
           "type": "scatter",
           "x": [
            1868894
           ],
           "y": [
            535939
           ]
          },
          {
           "marker": {
            "size": [
             3007925
            ],
            "sizemode": "area",
            "sizeref": 20000
           },
           "mode": "markers",
           "name": "Ecuador",
           "text": [
            "Ecuador"
           ],
           "type": "scatter",
           "x": [
            3007925
           ],
           "y": [
            692170
           ]
          },
          {
           "marker": {
            "size": [
             567882
            ],
            "sizemode": "area",
            "sizeref": 20000
           },
           "mode": "markers",
           "name": "Guatemala",
           "text": [
            "Guatemala"
           ],
           "type": "scatter",
           "x": [
            567882
           ],
           "y": [
            113928
           ]
          },
          {
           "marker": {
            "size": [
             445612
            ],
            "sizemode": "area",
            "sizeref": 20000
           },
           "mode": "markers",
           "name": "Honduras",
           "text": [
            "Honduras"
           ],
           "type": "scatter",
           "x": [
            445612
           ],
           "y": [
            108109
           ]
          },
          {
           "marker": {
            "size": [
             712248
            ],
            "sizemode": "area",
            "sizeref": 20000
           },
           "mode": "markers",
           "name": "Panama",
           "text": [
            "Panama"
           ],
           "type": "scatter",
           "x": [
            712248
           ],
           "y": [
            197215
           ]
          },
          {
           "marker": {
            "size": [
             1155182
            ],
            "sizemode": "area",
            "sizeref": 20000
           },
           "mode": "markers",
           "name": "Philippines",
           "text": [
            "Philippines"
           ],
           "type": "scatter",
           "x": [
            1155182
           ],
           "y": [
            215274
           ]
          },
          {
           "marker": {
            "size": [
             10262
            ],
            "sizemode": "area",
            "sizeref": 20000
           },
           "mode": "markers",
           "name": "United Arab Emirates",
           "text": [
            "United Arab Emirates"
           ],
           "type": "scatter",
           "x": [
            10262
           ],
           "y": [
            6066
           ]
          },
          {
           "marker": {
            "size": [
             383216
            ],
            "sizemode": "area",
            "sizeref": 20000
           },
           "mode": "markers",
           "name": "United States of America",
           "text": [
            "United States of America"
           ],
           "type": "scatter",
           "x": [
            383216
           ],
           "y": [
            189135
           ]
          }
         ],
         "name": "1994"
        },
        {
         "data": [
          {
           "marker": {
            "size": [
             829256
            ],
            "sizemode": "area",
            "sizeref": 20000
           },
           "mode": "markers",
           "name": "Belgium-Luxembourg",
           "text": [
            "Belgium-Luxembourg"
           ],
           "type": "scatter",
           "x": [
            829256
           ],
           "y": [
            720527
           ]
          },
          {
           "marker": {
            "size": [
             187294
            ],
            "sizemode": "area",
            "sizeref": 20000
           },
           "mode": "markers",
           "name": "Cameroon",
           "text": [
            "Cameroon"
           ],
           "type": "scatter",
           "x": [
            187294
           ],
           "y": [
            75600
           ]
          },
          {
           "marker": {
            "size": [
             1360278
            ],
            "sizemode": "area",
            "sizeref": 20000
           },
           "mode": "markers",
           "name": "Colombia",
           "text": [
            "Colombia"
           ],
           "type": "scatter",
           "x": [
            1360278
           ],
           "y": [
            431239
           ]
          },
          {
           "marker": {
            "size": [
             2022134
            ],
            "sizemode": "area",
            "sizeref": 20000
           },
           "mode": "markers",
           "name": "Costa Rica",
           "text": [
            "Costa Rica"
           ],
           "type": "scatter",
           "x": [
            2022134
           ],
           "y": [
            680367
           ]
          },
          {
           "marker": {
            "size": [
             3665182
            ],
            "sizemode": "area",
            "sizeref": 20000
           },
           "mode": "markers",
           "name": "Ecuador",
           "text": [
            "Ecuador"
           ],
           "type": "scatter",
           "x": [
            3665182
           ],
           "y": [
            818545
           ]
          },
          {
           "marker": {
            "size": [
             635503
            ],
            "sizemode": "area",
            "sizeref": 20000
           },
           "mode": "markers",
           "name": "Guatemala",
           "text": [
            "Guatemala"
           ],
           "type": "scatter",
           "x": [
            635503
           ],
           "y": [
            138648
           ]
          },
          {
           "marker": {
            "size": [
             521637
            ],
            "sizemode": "area",
            "sizeref": 20000
           },
           "mode": "markers",
           "name": "Honduras",
           "text": [
            "Honduras"
           ],
           "type": "scatter",
           "x": [
            521637
           ],
           "y": [
            120168
           ]
          },
          {
           "marker": {
            "size": [
             690017
            ],
            "sizemode": "area",
            "sizeref": 20000
           },
           "mode": "markers",
           "name": "Panama",
           "text": [
            "Panama"
           ],
           "type": "scatter",
           "x": [
            690017
           ],
           "y": [
            190363
           ]
          },
          {
           "marker": {
            "size": [
             1213411
            ],
            "sizemode": "area",
            "sizeref": 20000
           },
           "mode": "markers",
           "name": "Philippines",
           "text": [
            "Philippines"
           ],
           "type": "scatter",
           "x": [
            1213411
           ],
           "y": [
            223742
           ]
          },
          {
           "marker": {
            "size": [
             15387
            ],
            "sizemode": "area",
            "sizeref": 20000
           },
           "mode": "markers",
           "name": "United Arab Emirates",
           "text": [
            "United Arab Emirates"
           ],
           "type": "scatter",
           "x": [
            15387
           ],
           "y": [
            8076
           ]
          },
          {
           "marker": {
            "size": [
             397546
            ],
            "sizemode": "area",
            "sizeref": 20000
           },
           "mode": "markers",
           "name": "United States of America",
           "text": [
            "United States of America"
           ],
           "type": "scatter",
           "x": [
            397546
           ],
           "y": [
            200954
           ]
          }
         ],
         "name": "1995"
        },
        {
         "data": [
          {
           "marker": {
            "size": [
             869070
            ],
            "sizemode": "area",
            "sizeref": 20000
           },
           "mode": "markers",
           "name": "Belgium-Luxembourg",
           "text": [
            "Belgium-Luxembourg"
           ],
           "type": "scatter",
           "x": [
            869070
           ],
           "y": [
            780749
           ]
          },
          {
           "marker": {
            "size": [
             160192
            ],
            "sizemode": "area",
            "sizeref": 20000
           },
           "mode": "markers",
           "name": "Cameroon",
           "text": [
            "Cameroon"
           ],
           "type": "scatter",
           "x": [
            160192
           ],
           "y": [
            62856
           ]
          },
          {
           "marker": {
            "size": [
             1476523
            ],
            "sizemode": "area",
            "sizeref": 20000
           },
           "mode": "markers",
           "name": "Colombia",
           "text": [
            "Colombia"
           ],
           "type": "scatter",
           "x": [
            1476523
           ],
           "y": [
            459159
           ]
          },
          {
           "marker": {
            "size": [
             2102830
            ],
            "sizemode": "area",
            "sizeref": 20000
           },
           "mode": "markers",
           "name": "Costa Rica",
           "text": [
            "Costa Rica"
           ],
           "type": "scatter",
           "x": [
            2102830
           ],
           "y": [
            631853
           ]
          },
          {
           "marker": {
            "size": [
             3866079
            ],
            "sizemode": "area",
            "sizeref": 20000
           },
           "mode": "markers",
           "name": "Ecuador",
           "text": [
            "Ecuador"
           ],
           "type": "scatter",
           "x": [
            3866079
           ],
           "y": [
            964119
           ]
          },
          {
           "marker": {
            "size": [
             611183
            ],
            "sizemode": "area",
            "sizeref": 20000
           },
           "mode": "markers",
           "name": "Guatemala",
           "text": [
            "Guatemala"
           ],
           "type": "scatter",
           "x": [
            611183
           ],
           "y": [
            155189
           ]
          },
          {
           "marker": {
            "size": [
             573710
            ],
            "sizemode": "area",
            "sizeref": 20000
           },
           "mode": "markers",
           "name": "Honduras",
           "text": [
            "Honduras"
           ],
           "type": "scatter",
           "x": [
            573710
           ],
           "y": [
            137341
           ]
          },
          {
           "marker": {
            "size": [
             631953
            ],
            "sizemode": "area",
            "sizeref": 20000
           },
           "mode": "markers",
           "name": "Panama",
           "text": [
            "Panama"
           ],
           "type": "scatter",
           "x": [
            631953
           ],
           "y": [
            184031
           ]
          },
          {
           "marker": {
            "size": [
             1252196
            ],
            "sizemode": "area",
            "sizeref": 20000
           },
           "mode": "markers",
           "name": "Philippines",
           "text": [
            "Philippines"
           ],
           "type": "scatter",
           "x": [
            1252196
           ],
           "y": [
            236267
           ]
          },
          {
           "marker": {
            "size": [
             12753
            ],
            "sizemode": "area",
            "sizeref": 20000
           },
           "mode": "markers",
           "name": "United Arab Emirates",
           "text": [
            "United Arab Emirates"
           ],
           "type": "scatter",
           "x": [
            12753
           ],
           "y": [
            6874
           ]
          },
          {
           "marker": {
            "size": [
             408741
            ],
            "sizemode": "area",
            "sizeref": 20000
           },
           "mode": "markers",
           "name": "United States of America",
           "text": [
            "United States of America"
           ],
           "type": "scatter",
           "x": [
            408741
           ],
           "y": [
            195167
           ]
          }
         ],
         "name": "1996"
        },
        {
         "data": [
          {
           "marker": {
            "size": [
             808092
            ],
            "sizemode": "area",
            "sizeref": 20000
           },
           "mode": "markers",
           "name": "Belgium-Luxembourg",
           "text": [
            "Belgium-Luxembourg"
           ],
           "type": "scatter",
           "x": [
            808092
           ],
           "y": [
            695133
           ]
          },
          {
           "marker": {
            "size": [
             179698
            ],
            "sizemode": "area",
            "sizeref": 20000
           },
           "mode": "markers",
           "name": "Cameroon",
           "text": [
            "Cameroon"
           ],
           "type": "scatter",
           "x": [
            179698
           ],
           "y": [
            49493
           ]
          },
          {
           "marker": {
            "size": [
             1586029
            ],
            "sizemode": "area",
            "sizeref": 20000
           },
           "mode": "markers",
           "name": "Colombia",
           "text": [
            "Colombia"
           ],
           "type": "scatter",
           "x": [
            1586029
           ],
           "y": [
            503196
           ]
          },
          {
           "marker": {
            "size": [
             2025549
            ],
            "sizemode": "area",
            "sizeref": 20000
           },
           "mode": "markers",
           "name": "Costa Rica",
           "text": [
            "Costa Rica"
           ],
           "type": "scatter",
           "x": [
            2025549
           ],
           "y": [
            588029
           ]
          },
          {
           "marker": {
            "size": [
             4462099
            ],
            "sizemode": "area",
            "sizeref": 20000
           },
           "mode": "markers",
           "name": "Ecuador",
           "text": [
            "Ecuador"
           ],
           "type": "scatter",
           "x": [
            4462099
           ],
           "y": [
            1311639
           ]
          },
          {
           "marker": {
            "size": [
             659392
            ],
            "sizemode": "area",
            "sizeref": 20000
           },
           "mode": "markers",
           "name": "Guatemala",
           "text": [
            "Guatemala"
           ],
           "type": "scatter",
           "x": [
            659392
           ],
           "y": [
            151064
           ]
          },
          {
           "marker": {
            "size": [
             488671
            ],
            "sizemode": "area",
            "sizeref": 20000
           },
           "mode": "markers",
           "name": "Honduras",
           "text": [
            "Honduras"
           ],
           "type": "scatter",
           "x": [
            488671
           ],
           "y": [
            121496
           ]
          },
          {
           "marker": {
            "size": [
             608208
            ],
            "sizemode": "area",
            "sizeref": 20000
           },
           "mode": "markers",
           "name": "Panama",
           "text": [
            "Panama"
           ],
           "type": "scatter",
           "x": [
            608208
           ],
           "y": [
            179841
           ]
          },
          {
           "marker": {
            "size": [
             1143336
            ],
            "sizemode": "area",
            "sizeref": 20000
           },
           "mode": "markers",
           "name": "Philippines",
           "text": [
            "Philippines"
           ],
           "type": "scatter",
           "x": [
            1143336
           ],
           "y": [
            216556
           ]
          },
          {
           "marker": {
            "size": [
             60000
            ],
            "sizemode": "area",
            "sizeref": 20000
           },
           "mode": "markers",
           "name": "United Arab Emirates",
           "text": [
            "United Arab Emirates"
           ],
           "type": "scatter",
           "x": [
            60000
           ],
           "y": [
            32250
           ]
          },
          {
           "marker": {
            "size": [
             418823
            ],
            "sizemode": "area",
            "sizeref": 20000
           },
           "mode": "markers",
           "name": "United States of America",
           "text": [
            "United States of America"
           ],
           "type": "scatter",
           "x": [
            418823
           ],
           "y": [
            189237
           ]
          }
         ],
         "name": "1997"
        },
        {
         "data": [
          {
           "marker": {
            "size": [
             837966
            ],
            "sizemode": "area",
            "sizeref": 20000
           },
           "mode": "markers",
           "name": "Belgium-Luxembourg",
           "text": [
            "Belgium-Luxembourg"
           ],
           "type": "scatter",
           "x": [
            837966
           ],
           "y": [
            747078
           ]
          },
          {
           "marker": {
            "size": [
             134000
            ],
            "sizemode": "area",
            "sizeref": 20000
           },
           "mode": "markers",
           "name": "Cameroon",
           "text": [
            "Cameroon"
           ],
           "type": "scatter",
           "x": [
            134000
           ],
           "y": [
            36500
           ]
          },
          {
           "marker": {
            "size": [
             1408820
            ],
            "sizemode": "area",
            "sizeref": 20000
           },
           "mode": "markers",
           "name": "Colombia",
           "text": [
            "Colombia"
           ],
           "type": "scatter",
           "x": [
            1408820
           ],
           "y": [
            440957
           ]
          },
          {
           "marker": {
            "size": [
             2288497
            ],
            "sizemode": "area",
            "sizeref": 20000
           },
           "mode": "markers",
           "name": "Costa Rica",
           "text": [
            "Costa Rica"
           ],
           "type": "scatter",
           "x": [
            2288497
           ],
           "y": [
            684707
           ]
          },
          {
           "marker": {
            "size": [
             3855643
            ],
            "sizemode": "area",
            "sizeref": 20000
           },
           "mode": "markers",
           "name": "Ecuador",
           "text": [
            "Ecuador"
           ],
           "type": "scatter",
           "x": [
            3855643
           ],
           "y": [
            1058729
           ]
          },
          {
           "marker": {
            "size": [
             794240
            ],
            "sizemode": "area",
            "sizeref": 20000
           },
           "mode": "markers",
           "name": "Guatemala",
           "text": [
            "Guatemala"
           ],
           "type": "scatter",
           "x": [
            794240
           ],
           "y": [
            191372
           ]
          },
          {
           "marker": {
            "size": [
             467281
            ],
            "sizemode": "area",
            "sizeref": 20000
           },
           "mode": "markers",
           "name": "Honduras",
           "text": [
            "Honduras"
           ],
           "type": "scatter",
           "x": [
            467281
           ],
           "y": [
            115773
           ]
          },
          {
           "marker": {
            "size": [
             462415
            ],
            "sizemode": "area",
            "sizeref": 20000
           },
           "mode": "markers",
           "name": "Panama",
           "text": [
            "Panama"
           ],
           "type": "scatter",
           "x": [
            462415
           ],
           "y": [
            138748
           ]
          },
          {
           "marker": {
            "size": [
             1149552
            ],
            "sizemode": "area",
            "sizeref": 20000
           },
           "mode": "markers",
           "name": "Philippines",
           "text": [
            "Philippines"
           ],
           "type": "scatter",
           "x": [
            1149552
           ],
           "y": [
            217040
           ]
          },
          {
           "marker": {
            "size": [
             40000
            ],
            "sizemode": "area",
            "sizeref": 20000
           },
           "mode": "markers",
           "name": "United Arab Emirates",
           "text": [
            "United Arab Emirates"
           ],
           "type": "scatter",
           "x": [
            40000
           ],
           "y": [
            21500
           ]
          },
          {
           "marker": {
            "size": [
             416520
            ],
            "sizemode": "area",
            "sizeref": 20000
           },
           "mode": "markers",
           "name": "United States of America",
           "text": [
            "United States of America"
           ],
           "type": "scatter",
           "x": [
            416520
           ],
           "y": [
            177013
           ]
          }
         ],
         "name": "1998"
        },
        {
         "data": [
          {
           "marker": {
            "size": [
             985141
            ],
            "sizemode": "area",
            "sizeref": 20000
           },
           "mode": "markers",
           "name": "Belgium-Luxembourg",
           "text": [
            "Belgium-Luxembourg"
           ],
           "type": "scatter",
           "x": [
            985141
           ],
           "y": [
            793896
           ]
          },
          {
           "marker": {
            "size": [
             165000
            ],
            "sizemode": "area",
            "sizeref": 20000
           },
           "mode": "markers",
           "name": "Cameroon",
           "text": [
            "Cameroon"
           ],
           "type": "scatter",
           "x": [
            165000
           ],
           "y": [
            43000
           ]
          },
          {
           "marker": {
            "size": [
             1697518
            ],
            "sizemode": "area",
            "sizeref": 20000
           },
           "mode": "markers",
           "name": "Colombia",
           "text": [
            "Colombia"
           ],
           "type": "scatter",
           "x": [
            1697518
           ],
           "y": [
            508195
           ]
          },
          {
           "marker": {
            "size": [
             2229700
            ],
            "sizemode": "area",
            "sizeref": 20000
           },
           "mode": "markers",
           "name": "Costa Rica",
           "text": [
            "Costa Rica"
           ],
           "type": "scatter",
           "x": [
            2229700
           ],
           "y": [
            629371
           ]
          },
          {
           "marker": {
            "size": [
             3966126
            ],
            "sizemode": "area",
            "sizeref": 20000
           },
           "mode": "markers",
           "name": "Ecuador",
           "text": [
            "Ecuador"
           ],
           "type": "scatter",
           "x": [
            3966126
           ],
           "y": [
            945560
           ]
          },
          {
           "marker": {
            "size": [
             623583
            ],
            "sizemode": "area",
            "sizeref": 20000
           },
           "mode": "markers",
           "name": "Guatemala",
           "text": [
            "Guatemala"
           ],
           "type": "scatter",
           "x": [
            623583
           ],
           "y": [
            135351
           ]
          },
          {
           "marker": {
            "size": [
             112678
            ],
            "sizemode": "area",
            "sizeref": 20000
           },
           "mode": "markers",
           "name": "Honduras",
           "text": [
            "Honduras"
           ],
           "type": "scatter",
           "x": [
            112678
           ],
           "y": [
            37200
           ]
          },
          {
           "marker": {
            "size": [
             593364
            ],
            "sizemode": "area",
            "sizeref": 20000
           },
           "mode": "markers",
           "name": "Panama",
           "text": [
            "Panama"
           ],
           "type": "scatter",
           "x": [
            593364
           ],
           "y": [
            182253
           ]
          },
          {
           "marker": {
            "size": [
             1319632
            ],
            "sizemode": "area",
            "sizeref": 20000
           },
           "mode": "markers",
           "name": "Philippines",
           "text": [
            "Philippines"
           ],
           "type": "scatter",
           "x": [
            1319632
           ],
           "y": [
            240703
           ]
          },
          {
           "marker": {
            "size": [
             35000
            ],
            "sizemode": "area",
            "sizeref": 20000
           },
           "mode": "markers",
           "name": "United Arab Emirates",
           "text": [
            "United Arab Emirates"
           ],
           "type": "scatter",
           "x": [
            35000
           ],
           "y": [
            18000
           ]
          },
          {
           "marker": {
            "size": [
             418813
            ],
            "sizemode": "area",
            "sizeref": 20000
           },
           "mode": "markers",
           "name": "United States of America",
           "text": [
            "United States of America"
           ],
           "type": "scatter",
           "x": [
            418813
           ],
           "y": [
            161106
           ]
          }
         ],
         "name": "1999"
        },
        {
         "data": [
          {
           "marker": {
            "size": [],
            "sizemode": "area",
            "sizeref": 20000
           },
           "mode": "markers",
           "name": "Belgium-Luxembourg",
           "text": [],
           "type": "scatter",
           "x": [],
           "y": []
          },
          {
           "marker": {
            "size": [
             238170
            ],
            "sizemode": "area",
            "sizeref": 20000
           },
           "mode": "markers",
           "name": "Cameroon",
           "text": [
            "Cameroon"
           ],
           "type": "scatter",
           "x": [
            238170
           ],
           "y": [
            48752
           ]
          },
          {
           "marker": {
            "size": [
             1564400
            ],
            "sizemode": "area",
            "sizeref": 20000
           },
           "mode": "markers",
           "name": "Colombia",
           "text": [
            "Colombia"
           ],
           "type": "scatter",
           "x": [
            1564400
           ],
           "y": [
            436571
           ]
          },
          {
           "marker": {
            "size": [
             2079280
            ],
            "sizemode": "area",
            "sizeref": 20000
           },
           "mode": "markers",
           "name": "Costa Rica",
           "text": [
            "Costa Rica"
           ],
           "type": "scatter",
           "x": [
            2079280
           ],
           "y": [
            546634
           ]
          },
          {
           "marker": {
            "size": [
             3993968
            ],
            "sizemode": "area",
            "sizeref": 20000
           },
           "mode": "markers",
           "name": "Ecuador",
           "text": [
            "Ecuador"
           ],
           "type": "scatter",
           "x": [
            3993968
           ],
           "y": [
            809364
           ]
          },
          {
           "marker": {
            "size": [
             801515
            ],
            "sizemode": "area",
            "sizeref": 20000
           },
           "mode": "markers",
           "name": "Guatemala",
           "text": [
            "Guatemala"
           ],
           "type": "scatter",
           "x": [
            801515
           ],
           "y": [
            167451
           ]
          },
          {
           "marker": {
            "size": [
             374964
            ],
            "sizemode": "area",
            "sizeref": 20000
           },
           "mode": "markers",
           "name": "Honduras",
           "text": [
            "Honduras"
           ],
           "type": "scatter",
           "x": [
            374964
           ],
           "y": [
            124200
           ]
          },
          {
           "marker": {
            "size": [
             489284
            ],
            "sizemode": "area",
            "sizeref": 20000
           },
           "mode": "markers",
           "name": "Panama",
           "text": [
            "Panama"
           ],
           "type": "scatter",
           "x": [
            489284
           ],
           "y": [
            148328
           ]
          },
          {
           "marker": {
            "size": [
             1599920
            ],
            "sizemode": "area",
            "sizeref": 20000
           },
           "mode": "markers",
           "name": "Philippines",
           "text": [
            "Philippines"
           ],
           "type": "scatter",
           "x": [
            1599920
           ],
           "y": [
            291651
           ]
          },
          {
           "marker": {
            "size": [
             30000
            ],
            "sizemode": "area",
            "sizeref": 20000
           },
           "mode": "markers",
           "name": "United Arab Emirates",
           "text": [
            "United Arab Emirates"
           ],
           "type": "scatter",
           "x": [
            30000
           ],
           "y": [
            15400
           ]
          },
          {
           "marker": {
            "size": [
             400188
            ],
            "sizemode": "area",
            "sizeref": 20000
           },
           "mode": "markers",
           "name": "United States of America",
           "text": [
            "United States of America"
           ],
           "type": "scatter",
           "x": [
            400188
           ],
           "y": [
            157410
           ]
          }
         ],
         "name": "2000"
        },
        {
         "data": [
          {
           "marker": {
            "size": [],
            "sizemode": "area",
            "sizeref": 20000
           },
           "mode": "markers",
           "name": "Belgium-Luxembourg",
           "text": [],
           "type": "scatter",
           "x": [],
           "y": []
          },
          {
           "marker": {
            "size": [
             254102
            ],
            "sizemode": "area",
            "sizeref": 20000
           },
           "mode": "markers",
           "name": "Cameroon",
           "text": [
            "Cameroon"
           ],
           "type": "scatter",
           "x": [
            254102
           ],
           "y": [
            47748
           ]
          },
          {
           "marker": {
            "size": [
             1344231
            ],
            "sizemode": "area",
            "sizeref": 20000
           },
           "mode": "markers",
           "name": "Colombia",
           "text": [
            "Colombia"
           ],
           "type": "scatter",
           "x": [
            1344231
           ],
           "y": [
            367409
           ]
          },
          {
           "marker": {
            "size": [
             1959272
            ],
            "sizemode": "area",
            "sizeref": 20000
           },
           "mode": "markers",
           "name": "Costa Rica",
           "text": [
            "Costa Rica"
           ],
           "type": "scatter",
           "x": [
            1959272
           ],
           "y": [
            501149
           ]
          },
          {
           "marker": {
            "size": [
             3990427
            ],
            "sizemode": "area",
            "sizeref": 20000
           },
           "mode": "markers",
           "name": "Ecuador",
           "text": [
            "Ecuador"
           ],
           "type": "scatter",
           "x": [
            3990427
           ],
           "y": [
            828573
           ]
          },
          {
           "marker": {
            "size": [
             873829
            ],
            "sizemode": "area",
            "sizeref": 20000
           },
           "mode": "markers",
           "name": "Guatemala",
           "text": [
            "Guatemala"
           ],
           "type": "scatter",
           "x": [
            873829
           ],
           "y": [
            185048
           ]
          },
          {
           "marker": {
            "size": [
             428605
            ],
            "sizemode": "area",
            "sizeref": 20000
           },
           "mode": "markers",
           "name": "Honduras",
           "text": [
            "Honduras"
           ],
           "type": "scatter",
           "x": [
            428605
           ],
           "y": [
            197856
           ]
          },
          {
           "marker": {
            "size": [
             426081
            ],
            "sizemode": "area",
            "sizeref": 20000
           },
           "mode": "markers",
           "name": "Panama",
           "text": [
            "Panama"
           ],
           "type": "scatter",
           "x": [
            426081
           ],
           "y": [
            122157
           ]
          },
          {
           "marker": {
            "size": [
             2129309
            ],
            "sizemode": "area",
            "sizeref": 20000
           },
           "mode": "markers",
           "name": "Philippines",
           "text": [
            "Philippines"
           ],
           "type": "scatter",
           "x": [
            2129309
           ],
           "y": [
            297371
           ]
          },
          {
           "marker": {
            "size": [
             47000
            ],
            "sizemode": "area",
            "sizeref": 20000
           },
           "mode": "markers",
           "name": "United Arab Emirates",
           "text": [
            "United Arab Emirates"
           ],
           "type": "scatter",
           "x": [
            47000
           ],
           "y": [
            19000
           ]
          },
          {
           "marker": {
            "size": [
             406968
            ],
            "sizemode": "area",
            "sizeref": 20000
           },
           "mode": "markers",
           "name": "United States of America",
           "text": [
            "United States of America"
           ],
           "type": "scatter",
           "x": [
            406968
           ],
           "y": [
            162005
           ]
          }
         ],
         "name": "2001"
        },
        {
         "data": [
          {
           "marker": {
            "size": [],
            "sizemode": "area",
            "sizeref": 20000
           },
           "mode": "markers",
           "name": "Belgium-Luxembourg",
           "text": [],
           "type": "scatter",
           "x": [],
           "y": []
          },
          {
           "marker": {
            "size": [
             238412
            ],
            "sizemode": "area",
            "sizeref": 20000
           },
           "mode": "markers",
           "name": "Cameroon",
           "text": [
            "Cameroon"
           ],
           "type": "scatter",
           "x": [
            238412
           ],
           "y": [
            45223
           ]
          },
          {
           "marker": {
            "size": [
             1460245
            ],
            "sizemode": "area",
            "sizeref": 20000
           },
           "mode": "markers",
           "name": "Colombia",
           "text": [
            "Colombia"
           ],
           "type": "scatter",
           "x": [
            1460245
           ],
           "y": [
            404153
           ]
          },
          {
           "marker": {
            "size": [
             1873346
            ],
            "sizemode": "area",
            "sizeref": 20000
           },
           "mode": "markers",
           "name": "Costa Rica",
           "text": [
            "Costa Rica"
           ],
           "type": "scatter",
           "x": [
            1873346
           ],
           "y": [
            495172
           ]
          },
          {
           "marker": {
            "size": [
             4199156
            ],
            "sizemode": "area",
            "sizeref": 20000
           },
           "mode": "markers",
           "name": "Ecuador",
           "text": [
            "Ecuador"
           ],
           "type": "scatter",
           "x": [
            4199156
           ],
           "y": [
            936596
           ]
          },
          {
           "marker": {
            "size": [
             980557
            ],
            "sizemode": "area",
            "sizeref": 20000
           },
           "mode": "markers",
           "name": "Guatemala",
           "text": [
            "Guatemala"
           ],
           "type": "scatter",
           "x": [
            980557
           ],
           "y": [
            217427
           ]
          },
          {
           "marker": {
            "size": [
             441407
            ],
            "sizemode": "area",
            "sizeref": 20000
           },
           "mode": "markers",
           "name": "Honduras",
           "text": [
            "Honduras"
           ],
           "type": "scatter",
           "x": [
            441407
           ],
           "y": [
            108754
           ]
          },
          {
           "marker": {
            "size": [
             403923
            ],
            "sizemode": "area",
            "sizeref": 20000
           },
           "mode": "markers",
           "name": "Panama",
           "text": [
            "Panama"
           ],
           "type": "scatter",
           "x": [
            403923
           ],
           "y": [
            109413
           ]
          },
          {
           "marker": {
            "size": [
             1684986
            ],
            "sizemode": "area",
            "sizeref": 20000
           },
           "mode": "markers",
           "name": "Philippines",
           "text": [
            "Philippines"
           ],
           "type": "scatter",
           "x": [
            1684986
           ],
           "y": [
            308887
           ]
          },
          {
           "marker": {
            "size": [
             7700
            ],
            "sizemode": "area",
            "sizeref": 20000
           },
           "mode": "markers",
           "name": "United Arab Emirates",
           "text": [
            "United Arab Emirates"
           ],
           "type": "scatter",
           "x": [
            7700
           ],
           "y": [
            3593
           ]
          },
          {
           "marker": {
            "size": [
             416600
            ],
            "sizemode": "area",
            "sizeref": 20000
           },
           "mode": "markers",
           "name": "United States of America",
           "text": [
            "United States of America"
           ],
           "type": "scatter",
           "x": [
            416600
           ],
           "y": [
            171785
           ]
          }
         ],
         "name": "2002"
        },
        {
         "data": [
          {
           "marker": {
            "size": [],
            "sizemode": "area",
            "sizeref": 20000
           },
           "mode": "markers",
           "name": "Belgium-Luxembourg",
           "text": [],
           "type": "scatter",
           "x": [],
           "y": []
          },
          {
           "marker": {
            "size": [
             313723
            ],
            "sizemode": "area",
            "sizeref": 20000
           },
           "mode": "markers",
           "name": "Cameroon",
           "text": [
            "Cameroon"
           ],
           "type": "scatter",
           "x": [
            313723
           ],
           "y": [
            70982
           ]
          },
          {
           "marker": {
            "size": [
             1424819
            ],
            "sizemode": "area",
            "sizeref": 20000
           },
           "mode": "markers",
           "name": "Colombia",
           "text": [
            "Colombia"
           ],
           "type": "scatter",
           "x": [
            1424819
           ],
           "y": [
            389648
           ]
          },
          {
           "marker": {
            "size": [
             2042570
            ],
            "sizemode": "area",
            "sizeref": 20000
           },
           "mode": "markers",
           "name": "Costa Rica",
           "text": [
            "Costa Rica"
           ],
           "type": "scatter",
           "x": [
            2042570
           ],
           "y": [
            554538
           ]
          },
          {
           "marker": {
            "size": [
             4664814
            ],
            "sizemode": "area",
            "sizeref": 20000
           },
           "mode": "markers",
           "name": "Ecuador",
           "text": [
            "Ecuador"
           ],
           "type": "scatter",
           "x": [
            4664814
           ],
           "y": [
            1084169
           ]
          },
          {
           "marker": {
            "size": [
             936114
            ],
            "sizemode": "area",
            "sizeref": 20000
           },
           "mode": "markers",
           "name": "Guatemala",
           "text": [
            "Guatemala"
           ],
           "type": "scatter",
           "x": [
            936114
           ],
           "y": [
            209982
           ]
          },
          {
           "marker": {
            "size": [
             453164
            ],
            "sizemode": "area",
            "sizeref": 20000
           },
           "mode": "markers",
           "name": "Honduras",
           "text": [
            "Honduras"
           ],
           "type": "scatter",
           "x": [
            453164
           ],
           "y": [
            112033
           ]
          },
          {
           "marker": {
            "size": [
             385320
            ],
            "sizemode": "area",
            "sizeref": 20000
           },
           "mode": "markers",
           "name": "Panama",
           "text": [
            "Panama"
           ],
           "type": "scatter",
           "x": [
            385320
           ],
           "y": [
            105192
           ]
          },
          {
           "marker": {
            "size": [
             1829384
            ],
            "sizemode": "area",
            "sizeref": 20000
           },
           "mode": "markers",
           "name": "Philippines",
           "text": [
            "Philippines"
           ],
           "type": "scatter",
           "x": [
            1829384
           ],
           "y": [
            333000
           ]
          },
          {
           "marker": {
            "size": [
             3337
            ],
            "sizemode": "area",
            "sizeref": 20000
           },
           "mode": "markers",
           "name": "United Arab Emirates",
           "text": [
            "United Arab Emirates"
           ],
           "type": "scatter",
           "x": [
            3337
           ],
           "y": [
            1401
           ]
          },
          {
           "marker": {
            "size": [
             427543
            ],
            "sizemode": "area",
            "sizeref": 20000
           },
           "mode": "markers",
           "name": "United States of America",
           "text": [
            "United States of America"
           ],
           "type": "scatter",
           "x": [
            427543
           ],
           "y": [
            199763
           ]
          }
         ],
         "name": "2003"
        },
        {
         "data": [
          {
           "marker": {
            "size": [],
            "sizemode": "area",
            "sizeref": 20000
           },
           "mode": "markers",
           "name": "Belgium-Luxembourg",
           "text": [],
           "type": "scatter",
           "x": [],
           "y": []
          },
          {
           "marker": {
            "size": [
             294886
            ],
            "sizemode": "area",
            "sizeref": 20000
           },
           "mode": "markers",
           "name": "Cameroon",
           "text": [
            "Cameroon"
           ],
           "type": "scatter",
           "x": [
            294886
           ],
           "y": [
            74763
           ]
          },
          {
           "marker": {
            "size": [
             1471394
            ],
            "sizemode": "area",
            "sizeref": 20000
           },
           "mode": "markers",
           "name": "Colombia",
           "text": [
            "Colombia"
           ],
           "type": "scatter",
           "x": [
            1471394
           ],
           "y": [
            397784
           ]
          },
          {
           "marker": {
            "size": [
             2016687
            ],
            "sizemode": "area",
            "sizeref": 20000
           },
           "mode": "markers",
           "name": "Costa Rica",
           "text": [
            "Costa Rica"
           ],
           "type": "scatter",
           "x": [
            2016687
           ],
           "y": [
            545729
           ]
          },
          {
           "marker": {
            "size": [
             4521458
            ],
            "sizemode": "area",
            "sizeref": 20000
           },
           "mode": "markers",
           "name": "Ecuador",
           "text": [
            "Ecuador"
           ],
           "type": "scatter",
           "x": [
            4521458
           ],
           "y": [
            972899
           ]
          },
          {
           "marker": {
            "size": [
             1058161
            ],
            "sizemode": "area",
            "sizeref": 20000
           },
           "mode": "markers",
           "name": "Guatemala",
           "text": [
            "Guatemala"
           ],
           "type": "scatter",
           "x": [
            1058161
           ],
           "y": [
            229701
           ]
          },
          {
           "marker": {
            "size": [
             571686
            ],
            "sizemode": "area",
            "sizeref": 20000
           },
           "mode": "markers",
           "name": "Honduras",
           "text": [
            "Honduras"
           ],
           "type": "scatter",
           "x": [
            571686
           ],
           "y": [
            139408
           ]
          },
          {
           "marker": {
            "size": [
             397940
            ],
            "sizemode": "area",
            "sizeref": 20000
           },
           "mode": "markers",
           "name": "Panama",
           "text": [
            "Panama"
           ],
           "type": "scatter",
           "x": [
            397940
           ],
           "y": [
            108221
           ]
          },
          {
           "marker": {
            "size": [
             1797343
            ],
            "sizemode": "area",
            "sizeref": 20000
           },
           "mode": "markers",
           "name": "Philippines",
           "text": [
            "Philippines"
           ],
           "type": "scatter",
           "x": [
            1797343
           ],
           "y": [
            326425
           ]
          },
          {
           "marker": {
            "size": [
             110000
            ],
            "sizemode": "area",
            "sizeref": 20000
           },
           "mode": "markers",
           "name": "United Arab Emirates",
           "text": [
            "United Arab Emirates"
           ],
           "type": "scatter",
           "x": [
            110000
           ],
           "y": [
            41800
           ]
          },
          {
           "marker": {
            "size": [
             445757
            ],
            "sizemode": "area",
            "sizeref": 20000
           },
           "mode": "markers",
           "name": "United States of America",
           "text": [
            "United States of America"
           ],
           "type": "scatter",
           "x": [
            445757
           ],
           "y": [
            197088
           ]
          }
         ],
         "name": "2004"
        },
        {
         "data": [
          {
           "marker": {
            "size": [],
            "sizemode": "area",
            "sizeref": 20000
           },
           "mode": "markers",
           "name": "Belgium-Luxembourg",
           "text": [],
           "type": "scatter",
           "x": [],
           "y": []
          },
          {
           "marker": {
            "size": [
             265457
            ],
            "sizemode": "area",
            "sizeref": 20000
           },
           "mode": "markers",
           "name": "Cameroon",
           "text": [
            "Cameroon"
           ],
           "type": "scatter",
           "x": [
            265457
           ],
           "y": [
            68236
           ]
          },
          {
           "marker": {
            "size": [
             1621746
            ],
            "sizemode": "area",
            "sizeref": 20000
           },
           "mode": "markers",
           "name": "Colombia",
           "text": [
            "Colombia"
           ],
           "type": "scatter",
           "x": [
            1621746
           ],
           "y": [
            464959
           ]
          },
          {
           "marker": {
            "size": [
             1775519
            ],
            "sizemode": "area",
            "sizeref": 20000
           },
           "mode": "markers",
           "name": "Costa Rica",
           "text": [
            "Costa Rica"
           ],
           "type": "scatter",
           "x": [
            1775519
           ],
           "y": [
            483492
           ]
          },
          {
           "marker": {
            "size": [
             4764193
            ],
            "sizemode": "area",
            "sizeref": 20000
           },
           "mode": "markers",
           "name": "Ecuador",
           "text": [
            "Ecuador"
           ],
           "type": "scatter",
           "x": [
            4764193
           ],
           "y": [
            1068659
           ]
          },
          {
           "marker": {
            "size": [
             1129477
            ],
            "sizemode": "area",
            "sizeref": 20000
           },
           "mode": "markers",
           "name": "Guatemala",
           "text": [
            "Guatemala"
           ],
           "type": "scatter",
           "x": [
            1129477
           ],
           "y": [
            238100
           ]
          },
          {
           "marker": {
            "size": [
             545527
            ],
            "sizemode": "area",
            "sizeref": 20000
           },
           "mode": "markers",
           "name": "Honduras",
           "text": [
            "Honduras"
           ],
           "type": "scatter",
           "x": [
            545527
           ],
           "y": [
            134698
           ]
          },
          {
           "marker": {
            "size": [
             352480
            ],
            "sizemode": "area",
            "sizeref": 20000
           },
           "mode": "markers",
           "name": "Panama",
           "text": [
            "Panama"
           ],
           "type": "scatter",
           "x": [
            352480
           ],
           "y": [
            96517
           ]
          },
          {
           "marker": {
            "size": [
             2024322
            ],
            "sizemode": "area",
            "sizeref": 20000
           },
           "mode": "markers",
           "name": "Philippines",
           "text": [
            "Philippines"
           ],
           "type": "scatter",
           "x": [
            2024322
           ],
           "y": [
            362590
           ]
          },
          {
           "marker": {
            "size": [
             110000
            ],
            "sizemode": "area",
            "sizeref": 20000
           },
           "mode": "markers",
           "name": "United Arab Emirates",
           "text": [
            "United Arab Emirates"
           ],
           "type": "scatter",
           "x": [
            110000
           ],
           "y": [
            42000
           ]
          },
          {
           "marker": {
            "size": [
             449647
            ],
            "sizemode": "area",
            "sizeref": 20000
           },
           "mode": "markers",
           "name": "United States of America",
           "text": [
            "United States of America"
           ],
           "type": "scatter",
           "x": [
            449647
           ],
           "y": [
            218548
           ]
          }
         ],
         "name": "2005"
        }
       ],
       "layout": {
        "hovermode": "closest",
        "sliders": [
         {
          "active": 0,
          "currentvalue": {
           "font": {
            "size": 20
           },
           "prefix": "Year:",
           "visible": true,
           "xanchor": "right"
          },
          "len": 0.9,
          "pad": {
           "b": 10,
           "t": 50
          },
          "steps": [
           {
            "args": [
             [
              "1994"
             ],
             {
              "frame": {
               "duration": 300,
               "redraw": false
              },
              "mode": "immediate",
              "transition": {
               "duration": 300
              }
             }
            ],
            "label": "1994",
            "method": "animate"
           },
           {
            "args": [
             [
              "1995"
             ],
             {
              "frame": {
               "duration": 300,
               "redraw": false
              },
              "mode": "immediate",
              "transition": {
               "duration": 300
              }
             }
            ],
            "label": "1995",
            "method": "animate"
           },
           {
            "args": [
             [
              "1996"
             ],
             {
              "frame": {
               "duration": 300,
               "redraw": false
              },
              "mode": "immediate",
              "transition": {
               "duration": 300
              }
             }
            ],
            "label": "1996",
            "method": "animate"
           },
           {
            "args": [
             [
              "1997"
             ],
             {
              "frame": {
               "duration": 300,
               "redraw": false
              },
              "mode": "immediate",
              "transition": {
               "duration": 300
              }
             }
            ],
            "label": "1997",
            "method": "animate"
           },
           {
            "args": [
             [
              "1998"
             ],
             {
              "frame": {
               "duration": 300,
               "redraw": false
              },
              "mode": "immediate",
              "transition": {
               "duration": 300
              }
             }
            ],
            "label": "1998",
            "method": "animate"
           },
           {
            "args": [
             [
              "1999"
             ],
             {
              "frame": {
               "duration": 300,
               "redraw": false
              },
              "mode": "immediate",
              "transition": {
               "duration": 300
              }
             }
            ],
            "label": "1999",
            "method": "animate"
           },
           {
            "args": [
             [
              "2000"
             ],
             {
              "frame": {
               "duration": 300,
               "redraw": false
              },
              "mode": "immediate",
              "transition": {
               "duration": 300
              }
             }
            ],
            "label": "2000",
            "method": "animate"
           },
           {
            "args": [
             [
              "2001"
             ],
             {
              "frame": {
               "duration": 300,
               "redraw": false
              },
              "mode": "immediate",
              "transition": {
               "duration": 300
              }
             }
            ],
            "label": "2001",
            "method": "animate"
           },
           {
            "args": [
             [
              "2002"
             ],
             {
              "frame": {
               "duration": 300,
               "redraw": false
              },
              "mode": "immediate",
              "transition": {
               "duration": 300
              }
             }
            ],
            "label": "2002",
            "method": "animate"
           },
           {
            "args": [
             [
              "2003"
             ],
             {
              "frame": {
               "duration": 300,
               "redraw": false
              },
              "mode": "immediate",
              "transition": {
               "duration": 300
              }
             }
            ],
            "label": "2003",
            "method": "animate"
           },
           {
            "args": [
             [
              "2004"
             ],
             {
              "frame": {
               "duration": 300,
               "redraw": false
              },
              "mode": "immediate",
              "transition": {
               "duration": 300
              }
             }
            ],
            "label": "2004",
            "method": "animate"
           },
           {
            "args": [
             [
              "2005"
             ],
             {
              "frame": {
               "duration": 300,
               "redraw": false
              },
              "mode": "immediate",
              "transition": {
               "duration": 300
              }
             }
            ],
            "label": "2005",
            "method": "animate"
           }
          ],
          "transition": {
           "duration": 300,
           "easing": "cubic-in-out"
          },
          "x": 0.1,
          "xanchor": "left",
          "y": 0,
          "yanchor": "top"
         }
        ],
        "template": {
         "data": {
          "bar": [
           {
            "error_x": {
             "color": "#2a3f5f"
            },
            "error_y": {
             "color": "#2a3f5f"
            },
            "marker": {
             "line": {
              "color": "#E5ECF6",
              "width": 0.5
             }
            },
            "type": "bar"
           }
          ],
          "barpolar": [
           {
            "marker": {
             "line": {
              "color": "#E5ECF6",
              "width": 0.5
             }
            },
            "type": "barpolar"
           }
          ],
          "carpet": [
           {
            "aaxis": {
             "endlinecolor": "#2a3f5f",
             "gridcolor": "white",
             "linecolor": "white",
             "minorgridcolor": "white",
             "startlinecolor": "#2a3f5f"
            },
            "baxis": {
             "endlinecolor": "#2a3f5f",
             "gridcolor": "white",
             "linecolor": "white",
             "minorgridcolor": "white",
             "startlinecolor": "#2a3f5f"
            },
            "type": "carpet"
           }
          ],
          "choropleth": [
           {
            "colorbar": {
             "outlinewidth": 0,
             "ticks": ""
            },
            "type": "choropleth"
           }
          ],
          "contour": [
           {
            "colorbar": {
             "outlinewidth": 0,
             "ticks": ""
            },
            "colorscale": [
             [
              0,
              "#0d0887"
             ],
             [
              0.1111111111111111,
              "#46039f"
             ],
             [
              0.2222222222222222,
              "#7201a8"
             ],
             [
              0.3333333333333333,
              "#9c179e"
             ],
             [
              0.4444444444444444,
              "#bd3786"
             ],
             [
              0.5555555555555556,
              "#d8576b"
             ],
             [
              0.6666666666666666,
              "#ed7953"
             ],
             [
              0.7777777777777778,
              "#fb9f3a"
             ],
             [
              0.8888888888888888,
              "#fdca26"
             ],
             [
              1,
              "#f0f921"
             ]
            ],
            "type": "contour"
           }
          ],
          "contourcarpet": [
           {
            "colorbar": {
             "outlinewidth": 0,
             "ticks": ""
            },
            "type": "contourcarpet"
           }
          ],
          "heatmap": [
           {
            "colorbar": {
             "outlinewidth": 0,
             "ticks": ""
            },
            "colorscale": [
             [
              0,
              "#0d0887"
             ],
             [
              0.1111111111111111,
              "#46039f"
             ],
             [
              0.2222222222222222,
              "#7201a8"
             ],
             [
              0.3333333333333333,
              "#9c179e"
             ],
             [
              0.4444444444444444,
              "#bd3786"
             ],
             [
              0.5555555555555556,
              "#d8576b"
             ],
             [
              0.6666666666666666,
              "#ed7953"
             ],
             [
              0.7777777777777778,
              "#fb9f3a"
             ],
             [
              0.8888888888888888,
              "#fdca26"
             ],
             [
              1,
              "#f0f921"
             ]
            ],
            "type": "heatmap"
           }
          ],
          "heatmapgl": [
           {
            "colorbar": {
             "outlinewidth": 0,
             "ticks": ""
            },
            "colorscale": [
             [
              0,
              "#0d0887"
             ],
             [
              0.1111111111111111,
              "#46039f"
             ],
             [
              0.2222222222222222,
              "#7201a8"
             ],
             [
              0.3333333333333333,
              "#9c179e"
             ],
             [
              0.4444444444444444,
              "#bd3786"
             ],
             [
              0.5555555555555556,
              "#d8576b"
             ],
             [
              0.6666666666666666,
              "#ed7953"
             ],
             [
              0.7777777777777778,
              "#fb9f3a"
             ],
             [
              0.8888888888888888,
              "#fdca26"
             ],
             [
              1,
              "#f0f921"
             ]
            ],
            "type": "heatmapgl"
           }
          ],
          "histogram": [
           {
            "marker": {
             "colorbar": {
              "outlinewidth": 0,
              "ticks": ""
             }
            },
            "type": "histogram"
           }
          ],
          "histogram2d": [
           {
            "colorbar": {
             "outlinewidth": 0,
             "ticks": ""
            },
            "colorscale": [
             [
              0,
              "#0d0887"
             ],
             [
              0.1111111111111111,
              "#46039f"
             ],
             [
              0.2222222222222222,
              "#7201a8"
             ],
             [
              0.3333333333333333,
              "#9c179e"
             ],
             [
              0.4444444444444444,
              "#bd3786"
             ],
             [
              0.5555555555555556,
              "#d8576b"
             ],
             [
              0.6666666666666666,
              "#ed7953"
             ],
             [
              0.7777777777777778,
              "#fb9f3a"
             ],
             [
              0.8888888888888888,
              "#fdca26"
             ],
             [
              1,
              "#f0f921"
             ]
            ],
            "type": "histogram2d"
           }
          ],
          "histogram2dcontour": [
           {
            "colorbar": {
             "outlinewidth": 0,
             "ticks": ""
            },
            "colorscale": [
             [
              0,
              "#0d0887"
             ],
             [
              0.1111111111111111,
              "#46039f"
             ],
             [
              0.2222222222222222,
              "#7201a8"
             ],
             [
              0.3333333333333333,
              "#9c179e"
             ],
             [
              0.4444444444444444,
              "#bd3786"
             ],
             [
              0.5555555555555556,
              "#d8576b"
             ],
             [
              0.6666666666666666,
              "#ed7953"
             ],
             [
              0.7777777777777778,
              "#fb9f3a"
             ],
             [
              0.8888888888888888,
              "#fdca26"
             ],
             [
              1,
              "#f0f921"
             ]
            ],
            "type": "histogram2dcontour"
           }
          ],
          "mesh3d": [
           {
            "colorbar": {
             "outlinewidth": 0,
             "ticks": ""
            },
            "type": "mesh3d"
           }
          ],
          "parcoords": [
           {
            "line": {
             "colorbar": {
              "outlinewidth": 0,
              "ticks": ""
             }
            },
            "type": "parcoords"
           }
          ],
          "scatter": [
           {
            "marker": {
             "colorbar": {
              "outlinewidth": 0,
              "ticks": ""
             }
            },
            "type": "scatter"
           }
          ],
          "scatter3d": [
           {
            "line": {
             "colorbar": {
              "outlinewidth": 0,
              "ticks": ""
             }
            },
            "marker": {
             "colorbar": {
              "outlinewidth": 0,
              "ticks": ""
             }
            },
            "type": "scatter3d"
           }
          ],
          "scattercarpet": [
           {
            "marker": {
             "colorbar": {
              "outlinewidth": 0,
              "ticks": ""
             }
            },
            "type": "scattercarpet"
           }
          ],
          "scattergeo": [
           {
            "marker": {
             "colorbar": {
              "outlinewidth": 0,
              "ticks": ""
             }
            },
            "type": "scattergeo"
           }
          ],
          "scattergl": [
           {
            "marker": {
             "colorbar": {
              "outlinewidth": 0,
              "ticks": ""
             }
            },
            "type": "scattergl"
           }
          ],
          "scattermapbox": [
           {
            "marker": {
             "colorbar": {
              "outlinewidth": 0,
              "ticks": ""
             }
            },
            "type": "scattermapbox"
           }
          ],
          "scatterpolar": [
           {
            "marker": {
             "colorbar": {
              "outlinewidth": 0,
              "ticks": ""
             }
            },
            "type": "scatterpolar"
           }
          ],
          "scatterpolargl": [
           {
            "marker": {
             "colorbar": {
              "outlinewidth": 0,
              "ticks": ""
             }
            },
            "type": "scatterpolargl"
           }
          ],
          "scatterternary": [
           {
            "marker": {
             "colorbar": {
              "outlinewidth": 0,
              "ticks": ""
             }
            },
            "type": "scatterternary"
           }
          ],
          "surface": [
           {
            "colorbar": {
             "outlinewidth": 0,
             "ticks": ""
            },
            "colorscale": [
             [
              0,
              "#0d0887"
             ],
             [
              0.1111111111111111,
              "#46039f"
             ],
             [
              0.2222222222222222,
              "#7201a8"
             ],
             [
              0.3333333333333333,
              "#9c179e"
             ],
             [
              0.4444444444444444,
              "#bd3786"
             ],
             [
              0.5555555555555556,
              "#d8576b"
             ],
             [
              0.6666666666666666,
              "#ed7953"
             ],
             [
              0.7777777777777778,
              "#fb9f3a"
             ],
             [
              0.8888888888888888,
              "#fdca26"
             ],
             [
              1,
              "#f0f921"
             ]
            ],
            "type": "surface"
           }
          ],
          "table": [
           {
            "cells": {
             "fill": {
              "color": "#EBF0F8"
             },
             "line": {
              "color": "white"
             }
            },
            "header": {
             "fill": {
              "color": "#C8D4E3"
             },
             "line": {
              "color": "white"
             }
            },
            "type": "table"
           }
          ]
         },
         "layout": {
          "annotationdefaults": {
           "arrowcolor": "#2a3f5f",
           "arrowhead": 0,
           "arrowwidth": 1
          },
          "colorscale": {
           "diverging": [
            [
             0,
             "#8e0152"
            ],
            [
             0.1,
             "#c51b7d"
            ],
            [
             0.2,
             "#de77ae"
            ],
            [
             0.3,
             "#f1b6da"
            ],
            [
             0.4,
             "#fde0ef"
            ],
            [
             0.5,
             "#f7f7f7"
            ],
            [
             0.6,
             "#e6f5d0"
            ],
            [
             0.7,
             "#b8e186"
            ],
            [
             0.8,
             "#7fbc41"
            ],
            [
             0.9,
             "#4d9221"
            ],
            [
             1,
             "#276419"
            ]
           ],
           "sequential": [
            [
             0,
             "#0d0887"
            ],
            [
             0.1111111111111111,
             "#46039f"
            ],
            [
             0.2222222222222222,
             "#7201a8"
            ],
            [
             0.3333333333333333,
             "#9c179e"
            ],
            [
             0.4444444444444444,
             "#bd3786"
            ],
            [
             0.5555555555555556,
             "#d8576b"
            ],
            [
             0.6666666666666666,
             "#ed7953"
            ],
            [
             0.7777777777777778,
             "#fb9f3a"
            ],
            [
             0.8888888888888888,
             "#fdca26"
            ],
            [
             1,
             "#f0f921"
            ]
           ],
           "sequentialminus": [
            [
             0,
             "#0d0887"
            ],
            [
             0.1111111111111111,
             "#46039f"
            ],
            [
             0.2222222222222222,
             "#7201a8"
            ],
            [
             0.3333333333333333,
             "#9c179e"
            ],
            [
             0.4444444444444444,
             "#bd3786"
            ],
            [
             0.5555555555555556,
             "#d8576b"
            ],
            [
             0.6666666666666666,
             "#ed7953"
            ],
            [
             0.7777777777777778,
             "#fb9f3a"
            ],
            [
             0.8888888888888888,
             "#fdca26"
            ],
            [
             1,
             "#f0f921"
            ]
           ]
          },
          "colorway": [
           "#636efa",
           "#EF553B",
           "#00cc96",
           "#ab63fa",
           "#FFA15A",
           "#19d3f3",
           "#FF6692",
           "#B6E880",
           "#FF97FF",
           "#FECB52"
          ],
          "font": {
           "color": "#2a3f5f"
          },
          "geo": {
           "bgcolor": "white",
           "lakecolor": "white",
           "landcolor": "#E5ECF6",
           "showlakes": true,
           "showland": true,
           "subunitcolor": "white"
          },
          "hoverlabel": {
           "align": "left"
          },
          "hovermode": "closest",
          "mapbox": {
           "style": "light"
          },
          "paper_bgcolor": "white",
          "plot_bgcolor": "#E5ECF6",
          "polar": {
           "angularaxis": {
            "gridcolor": "white",
            "linecolor": "white",
            "ticks": ""
           },
           "bgcolor": "#E5ECF6",
           "radialaxis": {
            "gridcolor": "white",
            "linecolor": "white",
            "ticks": ""
           }
          },
          "scene": {
           "xaxis": {
            "backgroundcolor": "#E5ECF6",
            "gridcolor": "white",
            "gridwidth": 2,
            "linecolor": "white",
            "showbackground": true,
            "ticks": "",
            "zerolinecolor": "white"
           },
           "yaxis": {
            "backgroundcolor": "#E5ECF6",
            "gridcolor": "white",
            "gridwidth": 2,
            "linecolor": "white",
            "showbackground": true,
            "ticks": "",
            "zerolinecolor": "white"
           },
           "zaxis": {
            "backgroundcolor": "#E5ECF6",
            "gridcolor": "white",
            "gridwidth": 2,
            "linecolor": "white",
            "showbackground": true,
            "ticks": "",
            "zerolinecolor": "white"
           }
          },
          "shapedefaults": {
           "line": {
            "color": "#2a3f5f"
           }
          },
          "ternary": {
           "aaxis": {
            "gridcolor": "white",
            "linecolor": "white",
            "ticks": ""
           },
           "baxis": {
            "gridcolor": "white",
            "linecolor": "white",
            "ticks": ""
           },
           "bgcolor": "#E5ECF6",
           "caxis": {
            "gridcolor": "white",
            "linecolor": "white",
            "ticks": ""
           }
          },
          "title": {
           "x": 0.05
          },
          "xaxis": {
           "automargin": true,
           "gridcolor": "white",
           "linecolor": "white",
           "ticks": "",
           "zerolinecolor": "white",
           "zerolinewidth": 2
          },
          "yaxis": {
           "automargin": true,
           "gridcolor": "white",
           "linecolor": "white",
           "ticks": "",
           "zerolinecolor": "white",
           "zerolinewidth": 2
          }
         }
        },
        "updatemenus": [
         {
          "buttons": [
           {
            "args": [
             null,
             {
              "frame": {
               "duration": 500,
               "redraw": false
              },
              "fromcurrent": true,
              "transition": {
               "duration": 300,
               "easing": "quadratic-in-out"
              }
             }
            ],
            "label": "Play",
            "method": "animate"
           },
           {
            "args": [
             [
              null
             ],
             {
              "frame": {
               "duration": 0,
               "redraw": false
              },
              "mode": "immediate",
              "transition": {
               "duration": 0
              }
             }
            ],
            "label": "Pause",
            "method": "animate"
           }
          ],
          "direction": "left",
          "pad": {
           "r": 10,
           "t": 87
          },
          "showactive": false,
          "type": "buttons",
          "x": 0.1,
          "xanchor": "right",
          "y": 0,
          "yanchor": "top"
         }
        ],
        "xaxis": {
         "range": [
          3000,
          4900000
         ],
         "title": {
          "text": "Banana Values(tonnes)"
         }
        },
        "yaxis": {
         "range": [
          1300,
          1400000
         ],
         "title": {
          "text": "Banana Values($)"
         }
        }
       }
      },
      "text/html": [
       "<div>\n",
       "        \n",
       "        \n",
       "            <div id=\"851d8be7-a35a-455e-a07c-1c9c66a7ccfe\" class=\"plotly-graph-div\" style=\"height:525px; width:100%;\"></div>\n",
       "            <script type=\"text/javascript\">\n",
       "                require([\"plotly\"], function(Plotly) {\n",
       "                    window.PLOTLYENV=window.PLOTLYENV || {};\n",
       "                    \n",
       "                if (document.getElementById(\"851d8be7-a35a-455e-a07c-1c9c66a7ccfe\")) {\n",
       "                    Plotly.newPlot(\n",
       "                        '851d8be7-a35a-455e-a07c-1c9c66a7ccfe',\n",
       "                        [{\"marker\": {\"size\": [505145], \"sizemode\": \"area\", \"sizeref\": 20000}, \"mode\": \"markers\", \"name\": \"Belgium-Luxembourg\", \"text\": [\"Belgium-Luxembourg\"], \"type\": \"scatter\", \"x\": [505145], \"y\": [380631]}, {\"marker\": {\"size\": [165300], \"sizemode\": \"area\", \"sizeref\": 20000}, \"mode\": \"markers\", \"name\": \"Cameroon\", \"text\": [\"Cameroon\"], \"type\": \"scatter\", \"x\": [165300], \"y\": [60500]}, {\"marker\": {\"size\": [1703718], \"sizemode\": \"area\", \"sizeref\": 20000}, \"mode\": \"markers\", \"name\": \"Colombia\", \"text\": [\"Colombia\"], \"type\": \"scatter\", \"x\": [1703718], \"y\": [489524]}, {\"marker\": {\"size\": [1868894], \"sizemode\": \"area\", \"sizeref\": 20000}, \"mode\": \"markers\", \"name\": \"Costa Rica\", \"text\": [\"Costa Rica\"], \"type\": \"scatter\", \"x\": [1868894], \"y\": [535939]}, {\"marker\": {\"size\": [3007925], \"sizemode\": \"area\", \"sizeref\": 20000}, \"mode\": \"markers\", \"name\": \"Ecuador\", \"text\": [\"Ecuador\"], \"type\": \"scatter\", \"x\": [3007925], \"y\": [692170]}, {\"marker\": {\"size\": [567882], \"sizemode\": \"area\", \"sizeref\": 20000}, \"mode\": \"markers\", \"name\": \"Guatemala\", \"text\": [\"Guatemala\"], \"type\": \"scatter\", \"x\": [567882], \"y\": [113928]}, {\"marker\": {\"size\": [445612], \"sizemode\": \"area\", \"sizeref\": 20000}, \"mode\": \"markers\", \"name\": \"Honduras\", \"text\": [\"Honduras\"], \"type\": \"scatter\", \"x\": [445612], \"y\": [108109]}, {\"marker\": {\"size\": [712248], \"sizemode\": \"area\", \"sizeref\": 20000}, \"mode\": \"markers\", \"name\": \"Panama\", \"text\": [\"Panama\"], \"type\": \"scatter\", \"x\": [712248], \"y\": [197215]}, {\"marker\": {\"size\": [1155182], \"sizemode\": \"area\", \"sizeref\": 20000}, \"mode\": \"markers\", \"name\": \"Philippines\", \"text\": [\"Philippines\"], \"type\": \"scatter\", \"x\": [1155182], \"y\": [215274]}, {\"marker\": {\"size\": [10262], \"sizemode\": \"area\", \"sizeref\": 20000}, \"mode\": \"markers\", \"name\": \"United Arab Emirates\", \"text\": [\"United Arab Emirates\"], \"type\": \"scatter\", \"x\": [10262], \"y\": [6066]}, {\"marker\": {\"size\": [383216], \"sizemode\": \"area\", \"sizeref\": 20000}, \"mode\": \"markers\", \"name\": \"United States of America\", \"text\": [\"United States of America\"], \"type\": \"scatter\", \"x\": [383216], \"y\": [189135]}],\n",
       "                        {\"hovermode\": \"closest\", \"sliders\": [{\"active\": 0, \"currentvalue\": {\"font\": {\"size\": 20}, \"prefix\": \"Year:\", \"visible\": true, \"xanchor\": \"right\"}, \"len\": 0.9, \"pad\": {\"b\": 10, \"t\": 50}, \"steps\": [{\"args\": [[\"1994\"], {\"frame\": {\"duration\": 300, \"redraw\": false}, \"mode\": \"immediate\", \"transition\": {\"duration\": 300}}], \"label\": \"1994\", \"method\": \"animate\"}, {\"args\": [[\"1995\"], {\"frame\": {\"duration\": 300, \"redraw\": false}, \"mode\": \"immediate\", \"transition\": {\"duration\": 300}}], \"label\": \"1995\", \"method\": \"animate\"}, {\"args\": [[\"1996\"], {\"frame\": {\"duration\": 300, \"redraw\": false}, \"mode\": \"immediate\", \"transition\": {\"duration\": 300}}], \"label\": \"1996\", \"method\": \"animate\"}, {\"args\": [[\"1997\"], {\"frame\": {\"duration\": 300, \"redraw\": false}, \"mode\": \"immediate\", \"transition\": {\"duration\": 300}}], \"label\": \"1997\", \"method\": \"animate\"}, {\"args\": [[\"1998\"], {\"frame\": {\"duration\": 300, \"redraw\": false}, \"mode\": \"immediate\", \"transition\": {\"duration\": 300}}], \"label\": \"1998\", \"method\": \"animate\"}, {\"args\": [[\"1999\"], {\"frame\": {\"duration\": 300, \"redraw\": false}, \"mode\": \"immediate\", \"transition\": {\"duration\": 300}}], \"label\": \"1999\", \"method\": \"animate\"}, {\"args\": [[\"2000\"], {\"frame\": {\"duration\": 300, \"redraw\": false}, \"mode\": \"immediate\", \"transition\": {\"duration\": 300}}], \"label\": \"2000\", \"method\": \"animate\"}, {\"args\": [[\"2001\"], {\"frame\": {\"duration\": 300, \"redraw\": false}, \"mode\": \"immediate\", \"transition\": {\"duration\": 300}}], \"label\": \"2001\", \"method\": \"animate\"}, {\"args\": [[\"2002\"], {\"frame\": {\"duration\": 300, \"redraw\": false}, \"mode\": \"immediate\", \"transition\": {\"duration\": 300}}], \"label\": \"2002\", \"method\": \"animate\"}, {\"args\": [[\"2003\"], {\"frame\": {\"duration\": 300, \"redraw\": false}, \"mode\": \"immediate\", \"transition\": {\"duration\": 300}}], \"label\": \"2003\", \"method\": \"animate\"}, {\"args\": [[\"2004\"], {\"frame\": {\"duration\": 300, \"redraw\": false}, \"mode\": \"immediate\", \"transition\": {\"duration\": 300}}], \"label\": \"2004\", \"method\": \"animate\"}, {\"args\": [[\"2005\"], {\"frame\": {\"duration\": 300, \"redraw\": false}, \"mode\": \"immediate\", \"transition\": {\"duration\": 300}}], \"label\": \"2005\", \"method\": \"animate\"}], \"transition\": {\"duration\": 300, \"easing\": \"cubic-in-out\"}, \"x\": 0.1, \"xanchor\": \"left\", \"y\": 0, \"yanchor\": \"top\"}], \"template\": {\"data\": {\"bar\": [{\"error_x\": {\"color\": \"#2a3f5f\"}, \"error_y\": {\"color\": \"#2a3f5f\"}, \"marker\": {\"line\": {\"color\": \"#E5ECF6\", \"width\": 0.5}}, \"type\": \"bar\"}], \"barpolar\": [{\"marker\": {\"line\": {\"color\": \"#E5ECF6\", \"width\": 0.5}}, \"type\": \"barpolar\"}], \"carpet\": [{\"aaxis\": {\"endlinecolor\": \"#2a3f5f\", \"gridcolor\": \"white\", \"linecolor\": \"white\", \"minorgridcolor\": \"white\", \"startlinecolor\": \"#2a3f5f\"}, \"baxis\": {\"endlinecolor\": \"#2a3f5f\", \"gridcolor\": \"white\", \"linecolor\": \"white\", \"minorgridcolor\": \"white\", \"startlinecolor\": \"#2a3f5f\"}, \"type\": \"carpet\"}], \"choropleth\": [{\"colorbar\": {\"outlinewidth\": 0, \"ticks\": \"\"}, \"type\": \"choropleth\"}], \"contour\": [{\"colorbar\": {\"outlinewidth\": 0, \"ticks\": \"\"}, \"colorscale\": [[0.0, \"#0d0887\"], [0.1111111111111111, \"#46039f\"], [0.2222222222222222, \"#7201a8\"], [0.3333333333333333, \"#9c179e\"], [0.4444444444444444, \"#bd3786\"], [0.5555555555555556, \"#d8576b\"], [0.6666666666666666, \"#ed7953\"], [0.7777777777777778, \"#fb9f3a\"], [0.8888888888888888, \"#fdca26\"], [1.0, \"#f0f921\"]], \"type\": \"contour\"}], \"contourcarpet\": [{\"colorbar\": {\"outlinewidth\": 0, \"ticks\": \"\"}, \"type\": \"contourcarpet\"}], \"heatmap\": [{\"colorbar\": {\"outlinewidth\": 0, \"ticks\": \"\"}, \"colorscale\": [[0.0, \"#0d0887\"], [0.1111111111111111, \"#46039f\"], [0.2222222222222222, \"#7201a8\"], [0.3333333333333333, \"#9c179e\"], [0.4444444444444444, \"#bd3786\"], [0.5555555555555556, \"#d8576b\"], [0.6666666666666666, \"#ed7953\"], [0.7777777777777778, \"#fb9f3a\"], [0.8888888888888888, \"#fdca26\"], [1.0, \"#f0f921\"]], \"type\": \"heatmap\"}], \"heatmapgl\": [{\"colorbar\": {\"outlinewidth\": 0, \"ticks\": \"\"}, \"colorscale\": [[0.0, \"#0d0887\"], [0.1111111111111111, \"#46039f\"], [0.2222222222222222, \"#7201a8\"], [0.3333333333333333, \"#9c179e\"], [0.4444444444444444, \"#bd3786\"], [0.5555555555555556, \"#d8576b\"], [0.6666666666666666, \"#ed7953\"], [0.7777777777777778, \"#fb9f3a\"], [0.8888888888888888, \"#fdca26\"], [1.0, \"#f0f921\"]], \"type\": \"heatmapgl\"}], \"histogram\": [{\"marker\": {\"colorbar\": {\"outlinewidth\": 0, \"ticks\": \"\"}}, \"type\": \"histogram\"}], \"histogram2d\": [{\"colorbar\": {\"outlinewidth\": 0, \"ticks\": \"\"}, \"colorscale\": [[0.0, \"#0d0887\"], [0.1111111111111111, \"#46039f\"], [0.2222222222222222, \"#7201a8\"], [0.3333333333333333, \"#9c179e\"], [0.4444444444444444, \"#bd3786\"], [0.5555555555555556, \"#d8576b\"], [0.6666666666666666, \"#ed7953\"], [0.7777777777777778, \"#fb9f3a\"], [0.8888888888888888, \"#fdca26\"], [1.0, \"#f0f921\"]], \"type\": \"histogram2d\"}], \"histogram2dcontour\": [{\"colorbar\": {\"outlinewidth\": 0, \"ticks\": \"\"}, \"colorscale\": [[0.0, \"#0d0887\"], [0.1111111111111111, \"#46039f\"], [0.2222222222222222, \"#7201a8\"], [0.3333333333333333, \"#9c179e\"], [0.4444444444444444, \"#bd3786\"], [0.5555555555555556, \"#d8576b\"], [0.6666666666666666, \"#ed7953\"], [0.7777777777777778, \"#fb9f3a\"], [0.8888888888888888, \"#fdca26\"], [1.0, \"#f0f921\"]], \"type\": \"histogram2dcontour\"}], \"mesh3d\": [{\"colorbar\": {\"outlinewidth\": 0, \"ticks\": \"\"}, \"type\": \"mesh3d\"}], \"parcoords\": [{\"line\": {\"colorbar\": {\"outlinewidth\": 0, \"ticks\": \"\"}}, \"type\": \"parcoords\"}], \"scatter\": [{\"marker\": {\"colorbar\": {\"outlinewidth\": 0, \"ticks\": \"\"}}, \"type\": \"scatter\"}], \"scatter3d\": [{\"line\": {\"colorbar\": {\"outlinewidth\": 0, \"ticks\": \"\"}}, \"marker\": {\"colorbar\": {\"outlinewidth\": 0, \"ticks\": \"\"}}, \"type\": \"scatter3d\"}], \"scattercarpet\": [{\"marker\": {\"colorbar\": {\"outlinewidth\": 0, \"ticks\": \"\"}}, \"type\": \"scattercarpet\"}], \"scattergeo\": [{\"marker\": {\"colorbar\": {\"outlinewidth\": 0, \"ticks\": \"\"}}, \"type\": \"scattergeo\"}], \"scattergl\": [{\"marker\": {\"colorbar\": {\"outlinewidth\": 0, \"ticks\": \"\"}}, \"type\": \"scattergl\"}], \"scattermapbox\": [{\"marker\": {\"colorbar\": {\"outlinewidth\": 0, \"ticks\": \"\"}}, \"type\": \"scattermapbox\"}], \"scatterpolar\": [{\"marker\": {\"colorbar\": {\"outlinewidth\": 0, \"ticks\": \"\"}}, \"type\": \"scatterpolar\"}], \"scatterpolargl\": [{\"marker\": {\"colorbar\": {\"outlinewidth\": 0, \"ticks\": \"\"}}, \"type\": \"scatterpolargl\"}], \"scatterternary\": [{\"marker\": {\"colorbar\": {\"outlinewidth\": 0, \"ticks\": \"\"}}, \"type\": \"scatterternary\"}], \"surface\": [{\"colorbar\": {\"outlinewidth\": 0, \"ticks\": \"\"}, \"colorscale\": [[0.0, \"#0d0887\"], [0.1111111111111111, \"#46039f\"], [0.2222222222222222, \"#7201a8\"], [0.3333333333333333, \"#9c179e\"], [0.4444444444444444, \"#bd3786\"], [0.5555555555555556, \"#d8576b\"], [0.6666666666666666, \"#ed7953\"], [0.7777777777777778, \"#fb9f3a\"], [0.8888888888888888, \"#fdca26\"], [1.0, \"#f0f921\"]], \"type\": \"surface\"}], \"table\": [{\"cells\": {\"fill\": {\"color\": \"#EBF0F8\"}, \"line\": {\"color\": \"white\"}}, \"header\": {\"fill\": {\"color\": \"#C8D4E3\"}, \"line\": {\"color\": \"white\"}}, \"type\": \"table\"}]}, \"layout\": {\"annotationdefaults\": {\"arrowcolor\": \"#2a3f5f\", \"arrowhead\": 0, \"arrowwidth\": 1}, \"colorscale\": {\"diverging\": [[0, \"#8e0152\"], [0.1, \"#c51b7d\"], [0.2, \"#de77ae\"], [0.3, \"#f1b6da\"], [0.4, \"#fde0ef\"], [0.5, \"#f7f7f7\"], [0.6, \"#e6f5d0\"], [0.7, \"#b8e186\"], [0.8, \"#7fbc41\"], [0.9, \"#4d9221\"], [1, \"#276419\"]], \"sequential\": [[0.0, \"#0d0887\"], [0.1111111111111111, \"#46039f\"], [0.2222222222222222, \"#7201a8\"], [0.3333333333333333, \"#9c179e\"], [0.4444444444444444, \"#bd3786\"], [0.5555555555555556, \"#d8576b\"], [0.6666666666666666, \"#ed7953\"], [0.7777777777777778, \"#fb9f3a\"], [0.8888888888888888, \"#fdca26\"], [1.0, \"#f0f921\"]], \"sequentialminus\": [[0.0, \"#0d0887\"], [0.1111111111111111, \"#46039f\"], [0.2222222222222222, \"#7201a8\"], [0.3333333333333333, \"#9c179e\"], [0.4444444444444444, \"#bd3786\"], [0.5555555555555556, \"#d8576b\"], [0.6666666666666666, \"#ed7953\"], [0.7777777777777778, \"#fb9f3a\"], [0.8888888888888888, \"#fdca26\"], [1.0, \"#f0f921\"]]}, \"colorway\": [\"#636efa\", \"#EF553B\", \"#00cc96\", \"#ab63fa\", \"#FFA15A\", \"#19d3f3\", \"#FF6692\", \"#B6E880\", \"#FF97FF\", \"#FECB52\"], \"font\": {\"color\": \"#2a3f5f\"}, \"geo\": {\"bgcolor\": \"white\", \"lakecolor\": \"white\", \"landcolor\": \"#E5ECF6\", \"showlakes\": true, \"showland\": true, \"subunitcolor\": \"white\"}, \"hoverlabel\": {\"align\": \"left\"}, \"hovermode\": \"closest\", \"mapbox\": {\"style\": \"light\"}, \"paper_bgcolor\": \"white\", \"plot_bgcolor\": \"#E5ECF6\", \"polar\": {\"angularaxis\": {\"gridcolor\": \"white\", \"linecolor\": \"white\", \"ticks\": \"\"}, \"bgcolor\": \"#E5ECF6\", \"radialaxis\": {\"gridcolor\": \"white\", \"linecolor\": \"white\", \"ticks\": \"\"}}, \"scene\": {\"xaxis\": {\"backgroundcolor\": \"#E5ECF6\", \"gridcolor\": \"white\", \"gridwidth\": 2, \"linecolor\": \"white\", \"showbackground\": true, \"ticks\": \"\", \"zerolinecolor\": \"white\"}, \"yaxis\": {\"backgroundcolor\": \"#E5ECF6\", \"gridcolor\": \"white\", \"gridwidth\": 2, \"linecolor\": \"white\", \"showbackground\": true, \"ticks\": \"\", \"zerolinecolor\": \"white\"}, \"zaxis\": {\"backgroundcolor\": \"#E5ECF6\", \"gridcolor\": \"white\", \"gridwidth\": 2, \"linecolor\": \"white\", \"showbackground\": true, \"ticks\": \"\", \"zerolinecolor\": \"white\"}}, \"shapedefaults\": {\"line\": {\"color\": \"#2a3f5f\"}}, \"ternary\": {\"aaxis\": {\"gridcolor\": \"white\", \"linecolor\": \"white\", \"ticks\": \"\"}, \"baxis\": {\"gridcolor\": \"white\", \"linecolor\": \"white\", \"ticks\": \"\"}, \"bgcolor\": \"#E5ECF6\", \"caxis\": {\"gridcolor\": \"white\", \"linecolor\": \"white\", \"ticks\": \"\"}}, \"title\": {\"x\": 0.05}, \"xaxis\": {\"automargin\": true, \"gridcolor\": \"white\", \"linecolor\": \"white\", \"ticks\": \"\", \"zerolinecolor\": \"white\", \"zerolinewidth\": 2}, \"yaxis\": {\"automargin\": true, \"gridcolor\": \"white\", \"linecolor\": \"white\", \"ticks\": \"\", \"zerolinecolor\": \"white\", \"zerolinewidth\": 2}}}, \"updatemenus\": [{\"buttons\": [{\"args\": [null, {\"frame\": {\"duration\": 500, \"redraw\": false}, \"fromcurrent\": true, \"transition\": {\"duration\": 300, \"easing\": \"quadratic-in-out\"}}], \"label\": \"Play\", \"method\": \"animate\"}, {\"args\": [[null], {\"frame\": {\"duration\": 0, \"redraw\": false}, \"mode\": \"immediate\", \"transition\": {\"duration\": 0}}], \"label\": \"Pause\", \"method\": \"animate\"}], \"direction\": \"left\", \"pad\": {\"r\": 10, \"t\": 87}, \"showactive\": false, \"type\": \"buttons\", \"x\": 0.1, \"xanchor\": \"right\", \"y\": 0, \"yanchor\": \"top\"}], \"xaxis\": {\"range\": [3000, 4900000], \"title\": {\"text\": \"Banana Values(tonnes)\"}}, \"yaxis\": {\"range\": [1300, 1400000], \"title\": {\"text\": \"Banana Values($)\"}}},\n",
       "                        {\"responsive\": true}\n",
       "                    ).then(function(){\n",
       "                            Plotly.addFrames('851d8be7-a35a-455e-a07c-1c9c66a7ccfe', [{\"data\": [{\"marker\": {\"size\": [505145], \"sizemode\": \"area\", \"sizeref\": 20000}, \"mode\": \"markers\", \"name\": \"Belgium-Luxembourg\", \"text\": [\"Belgium-Luxembourg\"], \"x\": [505145], \"y\": [380631], \"type\": \"scatter\"}, {\"marker\": {\"size\": [165300], \"sizemode\": \"area\", \"sizeref\": 20000}, \"mode\": \"markers\", \"name\": \"Cameroon\", \"text\": [\"Cameroon\"], \"x\": [165300], \"y\": [60500], \"type\": \"scatter\"}, {\"marker\": {\"size\": [1703718], \"sizemode\": \"area\", \"sizeref\": 20000}, \"mode\": \"markers\", \"name\": \"Colombia\", \"text\": [\"Colombia\"], \"x\": [1703718], \"y\": [489524], \"type\": \"scatter\"}, {\"marker\": {\"size\": [1868894], \"sizemode\": \"area\", \"sizeref\": 20000}, \"mode\": \"markers\", \"name\": \"Costa Rica\", \"text\": [\"Costa Rica\"], \"x\": [1868894], \"y\": [535939], \"type\": \"scatter\"}, {\"marker\": {\"size\": [3007925], \"sizemode\": \"area\", \"sizeref\": 20000}, \"mode\": \"markers\", \"name\": \"Ecuador\", \"text\": [\"Ecuador\"], \"x\": [3007925], \"y\": [692170], \"type\": \"scatter\"}, {\"marker\": {\"size\": [567882], \"sizemode\": \"area\", \"sizeref\": 20000}, \"mode\": \"markers\", \"name\": \"Guatemala\", \"text\": [\"Guatemala\"], \"x\": [567882], \"y\": [113928], \"type\": \"scatter\"}, {\"marker\": {\"size\": [445612], \"sizemode\": \"area\", \"sizeref\": 20000}, \"mode\": \"markers\", \"name\": \"Honduras\", \"text\": [\"Honduras\"], \"x\": [445612], \"y\": [108109], \"type\": \"scatter\"}, {\"marker\": {\"size\": [712248], \"sizemode\": \"area\", \"sizeref\": 20000}, \"mode\": \"markers\", \"name\": \"Panama\", \"text\": [\"Panama\"], \"x\": [712248], \"y\": [197215], \"type\": \"scatter\"}, {\"marker\": {\"size\": [1155182], \"sizemode\": \"area\", \"sizeref\": 20000}, \"mode\": \"markers\", \"name\": \"Philippines\", \"text\": [\"Philippines\"], \"x\": [1155182], \"y\": [215274], \"type\": \"scatter\"}, {\"marker\": {\"size\": [10262], \"sizemode\": \"area\", \"sizeref\": 20000}, \"mode\": \"markers\", \"name\": \"United Arab Emirates\", \"text\": [\"United Arab Emirates\"], \"x\": [10262], \"y\": [6066], \"type\": \"scatter\"}, {\"marker\": {\"size\": [383216], \"sizemode\": \"area\", \"sizeref\": 20000}, \"mode\": \"markers\", \"name\": \"United States of America\", \"text\": [\"United States of America\"], \"x\": [383216], \"y\": [189135], \"type\": \"scatter\"}], \"name\": \"1994\"}, {\"data\": [{\"marker\": {\"size\": [829256], \"sizemode\": \"area\", \"sizeref\": 20000}, \"mode\": \"markers\", \"name\": \"Belgium-Luxembourg\", \"text\": [\"Belgium-Luxembourg\"], \"x\": [829256], \"y\": [720527], \"type\": \"scatter\"}, {\"marker\": {\"size\": [187294], \"sizemode\": \"area\", \"sizeref\": 20000}, \"mode\": \"markers\", \"name\": \"Cameroon\", \"text\": [\"Cameroon\"], \"x\": [187294], \"y\": [75600], \"type\": \"scatter\"}, {\"marker\": {\"size\": [1360278], \"sizemode\": \"area\", \"sizeref\": 20000}, \"mode\": \"markers\", \"name\": \"Colombia\", \"text\": [\"Colombia\"], \"x\": [1360278], \"y\": [431239], \"type\": \"scatter\"}, {\"marker\": {\"size\": [2022134], \"sizemode\": \"area\", \"sizeref\": 20000}, \"mode\": \"markers\", \"name\": \"Costa Rica\", \"text\": [\"Costa Rica\"], \"x\": [2022134], \"y\": [680367], \"type\": \"scatter\"}, {\"marker\": {\"size\": [3665182], \"sizemode\": \"area\", \"sizeref\": 20000}, \"mode\": \"markers\", \"name\": \"Ecuador\", \"text\": [\"Ecuador\"], \"x\": [3665182], \"y\": [818545], \"type\": \"scatter\"}, {\"marker\": {\"size\": [635503], \"sizemode\": \"area\", \"sizeref\": 20000}, \"mode\": \"markers\", \"name\": \"Guatemala\", \"text\": [\"Guatemala\"], \"x\": [635503], \"y\": [138648], \"type\": \"scatter\"}, {\"marker\": {\"size\": [521637], \"sizemode\": \"area\", \"sizeref\": 20000}, \"mode\": \"markers\", \"name\": \"Honduras\", \"text\": [\"Honduras\"], \"x\": [521637], \"y\": [120168], \"type\": \"scatter\"}, {\"marker\": {\"size\": [690017], \"sizemode\": \"area\", \"sizeref\": 20000}, \"mode\": \"markers\", \"name\": \"Panama\", \"text\": [\"Panama\"], \"x\": [690017], \"y\": [190363], \"type\": \"scatter\"}, {\"marker\": {\"size\": [1213411], \"sizemode\": \"area\", \"sizeref\": 20000}, \"mode\": \"markers\", \"name\": \"Philippines\", \"text\": [\"Philippines\"], \"x\": [1213411], \"y\": [223742], \"type\": \"scatter\"}, {\"marker\": {\"size\": [15387], \"sizemode\": \"area\", \"sizeref\": 20000}, \"mode\": \"markers\", \"name\": \"United Arab Emirates\", \"text\": [\"United Arab Emirates\"], \"x\": [15387], \"y\": [8076], \"type\": \"scatter\"}, {\"marker\": {\"size\": [397546], \"sizemode\": \"area\", \"sizeref\": 20000}, \"mode\": \"markers\", \"name\": \"United States of America\", \"text\": [\"United States of America\"], \"x\": [397546], \"y\": [200954], \"type\": \"scatter\"}], \"name\": \"1995\"}, {\"data\": [{\"marker\": {\"size\": [869070], \"sizemode\": \"area\", \"sizeref\": 20000}, \"mode\": \"markers\", \"name\": \"Belgium-Luxembourg\", \"text\": [\"Belgium-Luxembourg\"], \"x\": [869070], \"y\": [780749], \"type\": \"scatter\"}, {\"marker\": {\"size\": [160192], \"sizemode\": \"area\", \"sizeref\": 20000}, \"mode\": \"markers\", \"name\": \"Cameroon\", \"text\": [\"Cameroon\"], \"x\": [160192], \"y\": [62856], \"type\": \"scatter\"}, {\"marker\": {\"size\": [1476523], \"sizemode\": \"area\", \"sizeref\": 20000}, \"mode\": \"markers\", \"name\": \"Colombia\", \"text\": [\"Colombia\"], \"x\": [1476523], \"y\": [459159], \"type\": \"scatter\"}, {\"marker\": {\"size\": [2102830], \"sizemode\": \"area\", \"sizeref\": 20000}, \"mode\": \"markers\", \"name\": \"Costa Rica\", \"text\": [\"Costa Rica\"], \"x\": [2102830], \"y\": [631853], \"type\": \"scatter\"}, {\"marker\": {\"size\": [3866079], \"sizemode\": \"area\", \"sizeref\": 20000}, \"mode\": \"markers\", \"name\": \"Ecuador\", \"text\": [\"Ecuador\"], \"x\": [3866079], \"y\": [964119], \"type\": \"scatter\"}, {\"marker\": {\"size\": [611183], \"sizemode\": \"area\", \"sizeref\": 20000}, \"mode\": \"markers\", \"name\": \"Guatemala\", \"text\": [\"Guatemala\"], \"x\": [611183], \"y\": [155189], \"type\": \"scatter\"}, {\"marker\": {\"size\": [573710], \"sizemode\": \"area\", \"sizeref\": 20000}, \"mode\": \"markers\", \"name\": \"Honduras\", \"text\": [\"Honduras\"], \"x\": [573710], \"y\": [137341], \"type\": \"scatter\"}, {\"marker\": {\"size\": [631953], \"sizemode\": \"area\", \"sizeref\": 20000}, \"mode\": \"markers\", \"name\": \"Panama\", \"text\": [\"Panama\"], \"x\": [631953], \"y\": [184031], \"type\": \"scatter\"}, {\"marker\": {\"size\": [1252196], \"sizemode\": \"area\", \"sizeref\": 20000}, \"mode\": \"markers\", \"name\": \"Philippines\", \"text\": [\"Philippines\"], \"x\": [1252196], \"y\": [236267], \"type\": \"scatter\"}, {\"marker\": {\"size\": [12753], \"sizemode\": \"area\", \"sizeref\": 20000}, \"mode\": \"markers\", \"name\": \"United Arab Emirates\", \"text\": [\"United Arab Emirates\"], \"x\": [12753], \"y\": [6874], \"type\": \"scatter\"}, {\"marker\": {\"size\": [408741], \"sizemode\": \"area\", \"sizeref\": 20000}, \"mode\": \"markers\", \"name\": \"United States of America\", \"text\": [\"United States of America\"], \"x\": [408741], \"y\": [195167], \"type\": \"scatter\"}], \"name\": \"1996\"}, {\"data\": [{\"marker\": {\"size\": [808092], \"sizemode\": \"area\", \"sizeref\": 20000}, \"mode\": \"markers\", \"name\": \"Belgium-Luxembourg\", \"text\": [\"Belgium-Luxembourg\"], \"x\": [808092], \"y\": [695133], \"type\": \"scatter\"}, {\"marker\": {\"size\": [179698], \"sizemode\": \"area\", \"sizeref\": 20000}, \"mode\": \"markers\", \"name\": \"Cameroon\", \"text\": [\"Cameroon\"], \"x\": [179698], \"y\": [49493], \"type\": \"scatter\"}, {\"marker\": {\"size\": [1586029], \"sizemode\": \"area\", \"sizeref\": 20000}, \"mode\": \"markers\", \"name\": \"Colombia\", \"text\": [\"Colombia\"], \"x\": [1586029], \"y\": [503196], \"type\": \"scatter\"}, {\"marker\": {\"size\": [2025549], \"sizemode\": \"area\", \"sizeref\": 20000}, \"mode\": \"markers\", \"name\": \"Costa Rica\", \"text\": [\"Costa Rica\"], \"x\": [2025549], \"y\": [588029], \"type\": \"scatter\"}, {\"marker\": {\"size\": [4462099], \"sizemode\": \"area\", \"sizeref\": 20000}, \"mode\": \"markers\", \"name\": \"Ecuador\", \"text\": [\"Ecuador\"], \"x\": [4462099], \"y\": [1311639], \"type\": \"scatter\"}, {\"marker\": {\"size\": [659392], \"sizemode\": \"area\", \"sizeref\": 20000}, \"mode\": \"markers\", \"name\": \"Guatemala\", \"text\": [\"Guatemala\"], \"x\": [659392], \"y\": [151064], \"type\": \"scatter\"}, {\"marker\": {\"size\": [488671], \"sizemode\": \"area\", \"sizeref\": 20000}, \"mode\": \"markers\", \"name\": \"Honduras\", \"text\": [\"Honduras\"], \"x\": [488671], \"y\": [121496], \"type\": \"scatter\"}, {\"marker\": {\"size\": [608208], \"sizemode\": \"area\", \"sizeref\": 20000}, \"mode\": \"markers\", \"name\": \"Panama\", \"text\": [\"Panama\"], \"x\": [608208], \"y\": [179841], \"type\": \"scatter\"}, {\"marker\": {\"size\": [1143336], \"sizemode\": \"area\", \"sizeref\": 20000}, \"mode\": \"markers\", \"name\": \"Philippines\", \"text\": [\"Philippines\"], \"x\": [1143336], \"y\": [216556], \"type\": \"scatter\"}, {\"marker\": {\"size\": [60000], \"sizemode\": \"area\", \"sizeref\": 20000}, \"mode\": \"markers\", \"name\": \"United Arab Emirates\", \"text\": [\"United Arab Emirates\"], \"x\": [60000], \"y\": [32250], \"type\": \"scatter\"}, {\"marker\": {\"size\": [418823], \"sizemode\": \"area\", \"sizeref\": 20000}, \"mode\": \"markers\", \"name\": \"United States of America\", \"text\": [\"United States of America\"], \"x\": [418823], \"y\": [189237], \"type\": \"scatter\"}], \"name\": \"1997\"}, {\"data\": [{\"marker\": {\"size\": [837966], \"sizemode\": \"area\", \"sizeref\": 20000}, \"mode\": \"markers\", \"name\": \"Belgium-Luxembourg\", \"text\": [\"Belgium-Luxembourg\"], \"x\": [837966], \"y\": [747078], \"type\": \"scatter\"}, {\"marker\": {\"size\": [134000], \"sizemode\": \"area\", \"sizeref\": 20000}, \"mode\": \"markers\", \"name\": \"Cameroon\", \"text\": [\"Cameroon\"], \"x\": [134000], \"y\": [36500], \"type\": \"scatter\"}, {\"marker\": {\"size\": [1408820], \"sizemode\": \"area\", \"sizeref\": 20000}, \"mode\": \"markers\", \"name\": \"Colombia\", \"text\": [\"Colombia\"], \"x\": [1408820], \"y\": [440957], \"type\": \"scatter\"}, {\"marker\": {\"size\": [2288497], \"sizemode\": \"area\", \"sizeref\": 20000}, \"mode\": \"markers\", \"name\": \"Costa Rica\", \"text\": [\"Costa Rica\"], \"x\": [2288497], \"y\": [684707], \"type\": \"scatter\"}, {\"marker\": {\"size\": [3855643], \"sizemode\": \"area\", \"sizeref\": 20000}, \"mode\": \"markers\", \"name\": \"Ecuador\", \"text\": [\"Ecuador\"], \"x\": [3855643], \"y\": [1058729], \"type\": \"scatter\"}, {\"marker\": {\"size\": [794240], \"sizemode\": \"area\", \"sizeref\": 20000}, \"mode\": \"markers\", \"name\": \"Guatemala\", \"text\": [\"Guatemala\"], \"x\": [794240], \"y\": [191372], \"type\": \"scatter\"}, {\"marker\": {\"size\": [467281], \"sizemode\": \"area\", \"sizeref\": 20000}, \"mode\": \"markers\", \"name\": \"Honduras\", \"text\": [\"Honduras\"], \"x\": [467281], \"y\": [115773], \"type\": \"scatter\"}, {\"marker\": {\"size\": [462415], \"sizemode\": \"area\", \"sizeref\": 20000}, \"mode\": \"markers\", \"name\": \"Panama\", \"text\": [\"Panama\"], \"x\": [462415], \"y\": [138748], \"type\": \"scatter\"}, {\"marker\": {\"size\": [1149552], \"sizemode\": \"area\", \"sizeref\": 20000}, \"mode\": \"markers\", \"name\": \"Philippines\", \"text\": [\"Philippines\"], \"x\": [1149552], \"y\": [217040], \"type\": \"scatter\"}, {\"marker\": {\"size\": [40000], \"sizemode\": \"area\", \"sizeref\": 20000}, \"mode\": \"markers\", \"name\": \"United Arab Emirates\", \"text\": [\"United Arab Emirates\"], \"x\": [40000], \"y\": [21500], \"type\": \"scatter\"}, {\"marker\": {\"size\": [416520], \"sizemode\": \"area\", \"sizeref\": 20000}, \"mode\": \"markers\", \"name\": \"United States of America\", \"text\": [\"United States of America\"], \"x\": [416520], \"y\": [177013], \"type\": \"scatter\"}], \"name\": \"1998\"}, {\"data\": [{\"marker\": {\"size\": [985141], \"sizemode\": \"area\", \"sizeref\": 20000}, \"mode\": \"markers\", \"name\": \"Belgium-Luxembourg\", \"text\": [\"Belgium-Luxembourg\"], \"x\": [985141], \"y\": [793896], \"type\": \"scatter\"}, {\"marker\": {\"size\": [165000], \"sizemode\": \"area\", \"sizeref\": 20000}, \"mode\": \"markers\", \"name\": \"Cameroon\", \"text\": [\"Cameroon\"], \"x\": [165000], \"y\": [43000], \"type\": \"scatter\"}, {\"marker\": {\"size\": [1697518], \"sizemode\": \"area\", \"sizeref\": 20000}, \"mode\": \"markers\", \"name\": \"Colombia\", \"text\": [\"Colombia\"], \"x\": [1697518], \"y\": [508195], \"type\": \"scatter\"}, {\"marker\": {\"size\": [2229700], \"sizemode\": \"area\", \"sizeref\": 20000}, \"mode\": \"markers\", \"name\": \"Costa Rica\", \"text\": [\"Costa Rica\"], \"x\": [2229700], \"y\": [629371], \"type\": \"scatter\"}, {\"marker\": {\"size\": [3966126], \"sizemode\": \"area\", \"sizeref\": 20000}, \"mode\": \"markers\", \"name\": \"Ecuador\", \"text\": [\"Ecuador\"], \"x\": [3966126], \"y\": [945560], \"type\": \"scatter\"}, {\"marker\": {\"size\": [623583], \"sizemode\": \"area\", \"sizeref\": 20000}, \"mode\": \"markers\", \"name\": \"Guatemala\", \"text\": [\"Guatemala\"], \"x\": [623583], \"y\": [135351], \"type\": \"scatter\"}, {\"marker\": {\"size\": [112678], \"sizemode\": \"area\", \"sizeref\": 20000}, \"mode\": \"markers\", \"name\": \"Honduras\", \"text\": [\"Honduras\"], \"x\": [112678], \"y\": [37200], \"type\": \"scatter\"}, {\"marker\": {\"size\": [593364], \"sizemode\": \"area\", \"sizeref\": 20000}, \"mode\": \"markers\", \"name\": \"Panama\", \"text\": [\"Panama\"], \"x\": [593364], \"y\": [182253], \"type\": \"scatter\"}, {\"marker\": {\"size\": [1319632], \"sizemode\": \"area\", \"sizeref\": 20000}, \"mode\": \"markers\", \"name\": \"Philippines\", \"text\": [\"Philippines\"], \"x\": [1319632], \"y\": [240703], \"type\": \"scatter\"}, {\"marker\": {\"size\": [35000], \"sizemode\": \"area\", \"sizeref\": 20000}, \"mode\": \"markers\", \"name\": \"United Arab Emirates\", \"text\": [\"United Arab Emirates\"], \"x\": [35000], \"y\": [18000], \"type\": \"scatter\"}, {\"marker\": {\"size\": [418813], \"sizemode\": \"area\", \"sizeref\": 20000}, \"mode\": \"markers\", \"name\": \"United States of America\", \"text\": [\"United States of America\"], \"x\": [418813], \"y\": [161106], \"type\": \"scatter\"}], \"name\": \"1999\"}, {\"data\": [{\"marker\": {\"size\": [], \"sizemode\": \"area\", \"sizeref\": 20000}, \"mode\": \"markers\", \"name\": \"Belgium-Luxembourg\", \"text\": [], \"x\": [], \"y\": [], \"type\": \"scatter\"}, {\"marker\": {\"size\": [238170], \"sizemode\": \"area\", \"sizeref\": 20000}, \"mode\": \"markers\", \"name\": \"Cameroon\", \"text\": [\"Cameroon\"], \"x\": [238170], \"y\": [48752], \"type\": \"scatter\"}, {\"marker\": {\"size\": [1564400], \"sizemode\": \"area\", \"sizeref\": 20000}, \"mode\": \"markers\", \"name\": \"Colombia\", \"text\": [\"Colombia\"], \"x\": [1564400], \"y\": [436571], \"type\": \"scatter\"}, {\"marker\": {\"size\": [2079280], \"sizemode\": \"area\", \"sizeref\": 20000}, \"mode\": \"markers\", \"name\": \"Costa Rica\", \"text\": [\"Costa Rica\"], \"x\": [2079280], \"y\": [546634], \"type\": \"scatter\"}, {\"marker\": {\"size\": [3993968], \"sizemode\": \"area\", \"sizeref\": 20000}, \"mode\": \"markers\", \"name\": \"Ecuador\", \"text\": [\"Ecuador\"], \"x\": [3993968], \"y\": [809364], \"type\": \"scatter\"}, {\"marker\": {\"size\": [801515], \"sizemode\": \"area\", \"sizeref\": 20000}, \"mode\": \"markers\", \"name\": \"Guatemala\", \"text\": [\"Guatemala\"], \"x\": [801515], \"y\": [167451], \"type\": \"scatter\"}, {\"marker\": {\"size\": [374964], \"sizemode\": \"area\", \"sizeref\": 20000}, \"mode\": \"markers\", \"name\": \"Honduras\", \"text\": [\"Honduras\"], \"x\": [374964], \"y\": [124200], \"type\": \"scatter\"}, {\"marker\": {\"size\": [489284], \"sizemode\": \"area\", \"sizeref\": 20000}, \"mode\": \"markers\", \"name\": \"Panama\", \"text\": [\"Panama\"], \"x\": [489284], \"y\": [148328], \"type\": \"scatter\"}, {\"marker\": {\"size\": [1599920], \"sizemode\": \"area\", \"sizeref\": 20000}, \"mode\": \"markers\", \"name\": \"Philippines\", \"text\": [\"Philippines\"], \"x\": [1599920], \"y\": [291651], \"type\": \"scatter\"}, {\"marker\": {\"size\": [30000], \"sizemode\": \"area\", \"sizeref\": 20000}, \"mode\": \"markers\", \"name\": \"United Arab Emirates\", \"text\": [\"United Arab Emirates\"], \"x\": [30000], \"y\": [15400], \"type\": \"scatter\"}, {\"marker\": {\"size\": [400188], \"sizemode\": \"area\", \"sizeref\": 20000}, \"mode\": \"markers\", \"name\": \"United States of America\", \"text\": [\"United States of America\"], \"x\": [400188], \"y\": [157410], \"type\": \"scatter\"}], \"name\": \"2000\"}, {\"data\": [{\"marker\": {\"size\": [], \"sizemode\": \"area\", \"sizeref\": 20000}, \"mode\": \"markers\", \"name\": \"Belgium-Luxembourg\", \"text\": [], \"x\": [], \"y\": [], \"type\": \"scatter\"}, {\"marker\": {\"size\": [254102], \"sizemode\": \"area\", \"sizeref\": 20000}, \"mode\": \"markers\", \"name\": \"Cameroon\", \"text\": [\"Cameroon\"], \"x\": [254102], \"y\": [47748], \"type\": \"scatter\"}, {\"marker\": {\"size\": [1344231], \"sizemode\": \"area\", \"sizeref\": 20000}, \"mode\": \"markers\", \"name\": \"Colombia\", \"text\": [\"Colombia\"], \"x\": [1344231], \"y\": [367409], \"type\": \"scatter\"}, {\"marker\": {\"size\": [1959272], \"sizemode\": \"area\", \"sizeref\": 20000}, \"mode\": \"markers\", \"name\": \"Costa Rica\", \"text\": [\"Costa Rica\"], \"x\": [1959272], \"y\": [501149], \"type\": \"scatter\"}, {\"marker\": {\"size\": [3990427], \"sizemode\": \"area\", \"sizeref\": 20000}, \"mode\": \"markers\", \"name\": \"Ecuador\", \"text\": [\"Ecuador\"], \"x\": [3990427], \"y\": [828573], \"type\": \"scatter\"}, {\"marker\": {\"size\": [873829], \"sizemode\": \"area\", \"sizeref\": 20000}, \"mode\": \"markers\", \"name\": \"Guatemala\", \"text\": [\"Guatemala\"], \"x\": [873829], \"y\": [185048], \"type\": \"scatter\"}, {\"marker\": {\"size\": [428605], \"sizemode\": \"area\", \"sizeref\": 20000}, \"mode\": \"markers\", \"name\": \"Honduras\", \"text\": [\"Honduras\"], \"x\": [428605], \"y\": [197856], \"type\": \"scatter\"}, {\"marker\": {\"size\": [426081], \"sizemode\": \"area\", \"sizeref\": 20000}, \"mode\": \"markers\", \"name\": \"Panama\", \"text\": [\"Panama\"], \"x\": [426081], \"y\": [122157], \"type\": \"scatter\"}, {\"marker\": {\"size\": [2129309], \"sizemode\": \"area\", \"sizeref\": 20000}, \"mode\": \"markers\", \"name\": \"Philippines\", \"text\": [\"Philippines\"], \"x\": [2129309], \"y\": [297371], \"type\": \"scatter\"}, {\"marker\": {\"size\": [47000], \"sizemode\": \"area\", \"sizeref\": 20000}, \"mode\": \"markers\", \"name\": \"United Arab Emirates\", \"text\": [\"United Arab Emirates\"], \"x\": [47000], \"y\": [19000], \"type\": \"scatter\"}, {\"marker\": {\"size\": [406968], \"sizemode\": \"area\", \"sizeref\": 20000}, \"mode\": \"markers\", \"name\": \"United States of America\", \"text\": [\"United States of America\"], \"x\": [406968], \"y\": [162005], \"type\": \"scatter\"}], \"name\": \"2001\"}, {\"data\": [{\"marker\": {\"size\": [], \"sizemode\": \"area\", \"sizeref\": 20000}, \"mode\": \"markers\", \"name\": \"Belgium-Luxembourg\", \"text\": [], \"x\": [], \"y\": [], \"type\": \"scatter\"}, {\"marker\": {\"size\": [238412], \"sizemode\": \"area\", \"sizeref\": 20000}, \"mode\": \"markers\", \"name\": \"Cameroon\", \"text\": [\"Cameroon\"], \"x\": [238412], \"y\": [45223], \"type\": \"scatter\"}, {\"marker\": {\"size\": [1460245], \"sizemode\": \"area\", \"sizeref\": 20000}, \"mode\": \"markers\", \"name\": \"Colombia\", \"text\": [\"Colombia\"], \"x\": [1460245], \"y\": [404153], \"type\": \"scatter\"}, {\"marker\": {\"size\": [1873346], \"sizemode\": \"area\", \"sizeref\": 20000}, \"mode\": \"markers\", \"name\": \"Costa Rica\", \"text\": [\"Costa Rica\"], \"x\": [1873346], \"y\": [495172], \"type\": \"scatter\"}, {\"marker\": {\"size\": [4199156], \"sizemode\": \"area\", \"sizeref\": 20000}, \"mode\": \"markers\", \"name\": \"Ecuador\", \"text\": [\"Ecuador\"], \"x\": [4199156], \"y\": [936596], \"type\": \"scatter\"}, {\"marker\": {\"size\": [980557], \"sizemode\": \"area\", \"sizeref\": 20000}, \"mode\": \"markers\", \"name\": \"Guatemala\", \"text\": [\"Guatemala\"], \"x\": [980557], \"y\": [217427], \"type\": \"scatter\"}, {\"marker\": {\"size\": [441407], \"sizemode\": \"area\", \"sizeref\": 20000}, \"mode\": \"markers\", \"name\": \"Honduras\", \"text\": [\"Honduras\"], \"x\": [441407], \"y\": [108754], \"type\": \"scatter\"}, {\"marker\": {\"size\": [403923], \"sizemode\": \"area\", \"sizeref\": 20000}, \"mode\": \"markers\", \"name\": \"Panama\", \"text\": [\"Panama\"], \"x\": [403923], \"y\": [109413], \"type\": \"scatter\"}, {\"marker\": {\"size\": [1684986], \"sizemode\": \"area\", \"sizeref\": 20000}, \"mode\": \"markers\", \"name\": \"Philippines\", \"text\": [\"Philippines\"], \"x\": [1684986], \"y\": [308887], \"type\": \"scatter\"}, {\"marker\": {\"size\": [7700], \"sizemode\": \"area\", \"sizeref\": 20000}, \"mode\": \"markers\", \"name\": \"United Arab Emirates\", \"text\": [\"United Arab Emirates\"], \"x\": [7700], \"y\": [3593], \"type\": \"scatter\"}, {\"marker\": {\"size\": [416600], \"sizemode\": \"area\", \"sizeref\": 20000}, \"mode\": \"markers\", \"name\": \"United States of America\", \"text\": [\"United States of America\"], \"x\": [416600], \"y\": [171785], \"type\": \"scatter\"}], \"name\": \"2002\"}, {\"data\": [{\"marker\": {\"size\": [], \"sizemode\": \"area\", \"sizeref\": 20000}, \"mode\": \"markers\", \"name\": \"Belgium-Luxembourg\", \"text\": [], \"x\": [], \"y\": [], \"type\": \"scatter\"}, {\"marker\": {\"size\": [313723], \"sizemode\": \"area\", \"sizeref\": 20000}, \"mode\": \"markers\", \"name\": \"Cameroon\", \"text\": [\"Cameroon\"], \"x\": [313723], \"y\": [70982], \"type\": \"scatter\"}, {\"marker\": {\"size\": [1424819], \"sizemode\": \"area\", \"sizeref\": 20000}, \"mode\": \"markers\", \"name\": \"Colombia\", \"text\": [\"Colombia\"], \"x\": [1424819], \"y\": [389648], \"type\": \"scatter\"}, {\"marker\": {\"size\": [2042570], \"sizemode\": \"area\", \"sizeref\": 20000}, \"mode\": \"markers\", \"name\": \"Costa Rica\", \"text\": [\"Costa Rica\"], \"x\": [2042570], \"y\": [554538], \"type\": \"scatter\"}, {\"marker\": {\"size\": [4664814], \"sizemode\": \"area\", \"sizeref\": 20000}, \"mode\": \"markers\", \"name\": \"Ecuador\", \"text\": [\"Ecuador\"], \"x\": [4664814], \"y\": [1084169], \"type\": \"scatter\"}, {\"marker\": {\"size\": [936114], \"sizemode\": \"area\", \"sizeref\": 20000}, \"mode\": \"markers\", \"name\": \"Guatemala\", \"text\": [\"Guatemala\"], \"x\": [936114], \"y\": [209982], \"type\": \"scatter\"}, {\"marker\": {\"size\": [453164], \"sizemode\": \"area\", \"sizeref\": 20000}, \"mode\": \"markers\", \"name\": \"Honduras\", \"text\": [\"Honduras\"], \"x\": [453164], \"y\": [112033], \"type\": \"scatter\"}, {\"marker\": {\"size\": [385320], \"sizemode\": \"area\", \"sizeref\": 20000}, \"mode\": \"markers\", \"name\": \"Panama\", \"text\": [\"Panama\"], \"x\": [385320], \"y\": [105192], \"type\": \"scatter\"}, {\"marker\": {\"size\": [1829384], \"sizemode\": \"area\", \"sizeref\": 20000}, \"mode\": \"markers\", \"name\": \"Philippines\", \"text\": [\"Philippines\"], \"x\": [1829384], \"y\": [333000], \"type\": \"scatter\"}, {\"marker\": {\"size\": [3337], \"sizemode\": \"area\", \"sizeref\": 20000}, \"mode\": \"markers\", \"name\": \"United Arab Emirates\", \"text\": [\"United Arab Emirates\"], \"x\": [3337], \"y\": [1401], \"type\": \"scatter\"}, {\"marker\": {\"size\": [427543], \"sizemode\": \"area\", \"sizeref\": 20000}, \"mode\": \"markers\", \"name\": \"United States of America\", \"text\": [\"United States of America\"], \"x\": [427543], \"y\": [199763], \"type\": \"scatter\"}], \"name\": \"2003\"}, {\"data\": [{\"marker\": {\"size\": [], \"sizemode\": \"area\", \"sizeref\": 20000}, \"mode\": \"markers\", \"name\": \"Belgium-Luxembourg\", \"text\": [], \"x\": [], \"y\": [], \"type\": \"scatter\"}, {\"marker\": {\"size\": [294886], \"sizemode\": \"area\", \"sizeref\": 20000}, \"mode\": \"markers\", \"name\": \"Cameroon\", \"text\": [\"Cameroon\"], \"x\": [294886], \"y\": [74763], \"type\": \"scatter\"}, {\"marker\": {\"size\": [1471394], \"sizemode\": \"area\", \"sizeref\": 20000}, \"mode\": \"markers\", \"name\": \"Colombia\", \"text\": [\"Colombia\"], \"x\": [1471394], \"y\": [397784], \"type\": \"scatter\"}, {\"marker\": {\"size\": [2016687], \"sizemode\": \"area\", \"sizeref\": 20000}, \"mode\": \"markers\", \"name\": \"Costa Rica\", \"text\": [\"Costa Rica\"], \"x\": [2016687], \"y\": [545729], \"type\": \"scatter\"}, {\"marker\": {\"size\": [4521458], \"sizemode\": \"area\", \"sizeref\": 20000}, \"mode\": \"markers\", \"name\": \"Ecuador\", \"text\": [\"Ecuador\"], \"x\": [4521458], \"y\": [972899], \"type\": \"scatter\"}, {\"marker\": {\"size\": [1058161], \"sizemode\": \"area\", \"sizeref\": 20000}, \"mode\": \"markers\", \"name\": \"Guatemala\", \"text\": [\"Guatemala\"], \"x\": [1058161], \"y\": [229701], \"type\": \"scatter\"}, {\"marker\": {\"size\": [571686], \"sizemode\": \"area\", \"sizeref\": 20000}, \"mode\": \"markers\", \"name\": \"Honduras\", \"text\": [\"Honduras\"], \"x\": [571686], \"y\": [139408], \"type\": \"scatter\"}, {\"marker\": {\"size\": [397940], \"sizemode\": \"area\", \"sizeref\": 20000}, \"mode\": \"markers\", \"name\": \"Panama\", \"text\": [\"Panama\"], \"x\": [397940], \"y\": [108221], \"type\": \"scatter\"}, {\"marker\": {\"size\": [1797343], \"sizemode\": \"area\", \"sizeref\": 20000}, \"mode\": \"markers\", \"name\": \"Philippines\", \"text\": [\"Philippines\"], \"x\": [1797343], \"y\": [326425], \"type\": \"scatter\"}, {\"marker\": {\"size\": [110000], \"sizemode\": \"area\", \"sizeref\": 20000}, \"mode\": \"markers\", \"name\": \"United Arab Emirates\", \"text\": [\"United Arab Emirates\"], \"x\": [110000], \"y\": [41800], \"type\": \"scatter\"}, {\"marker\": {\"size\": [445757], \"sizemode\": \"area\", \"sizeref\": 20000}, \"mode\": \"markers\", \"name\": \"United States of America\", \"text\": [\"United States of America\"], \"x\": [445757], \"y\": [197088], \"type\": \"scatter\"}], \"name\": \"2004\"}, {\"data\": [{\"marker\": {\"size\": [], \"sizemode\": \"area\", \"sizeref\": 20000}, \"mode\": \"markers\", \"name\": \"Belgium-Luxembourg\", \"text\": [], \"x\": [], \"y\": [], \"type\": \"scatter\"}, {\"marker\": {\"size\": [265457], \"sizemode\": \"area\", \"sizeref\": 20000}, \"mode\": \"markers\", \"name\": \"Cameroon\", \"text\": [\"Cameroon\"], \"x\": [265457], \"y\": [68236], \"type\": \"scatter\"}, {\"marker\": {\"size\": [1621746], \"sizemode\": \"area\", \"sizeref\": 20000}, \"mode\": \"markers\", \"name\": \"Colombia\", \"text\": [\"Colombia\"], \"x\": [1621746], \"y\": [464959], \"type\": \"scatter\"}, {\"marker\": {\"size\": [1775519], \"sizemode\": \"area\", \"sizeref\": 20000}, \"mode\": \"markers\", \"name\": \"Costa Rica\", \"text\": [\"Costa Rica\"], \"x\": [1775519], \"y\": [483492], \"type\": \"scatter\"}, {\"marker\": {\"size\": [4764193], \"sizemode\": \"area\", \"sizeref\": 20000}, \"mode\": \"markers\", \"name\": \"Ecuador\", \"text\": [\"Ecuador\"], \"x\": [4764193], \"y\": [1068659], \"type\": \"scatter\"}, {\"marker\": {\"size\": [1129477], \"sizemode\": \"area\", \"sizeref\": 20000}, \"mode\": \"markers\", \"name\": \"Guatemala\", \"text\": [\"Guatemala\"], \"x\": [1129477], \"y\": [238100], \"type\": \"scatter\"}, {\"marker\": {\"size\": [545527], \"sizemode\": \"area\", \"sizeref\": 20000}, \"mode\": \"markers\", \"name\": \"Honduras\", \"text\": [\"Honduras\"], \"x\": [545527], \"y\": [134698], \"type\": \"scatter\"}, {\"marker\": {\"size\": [352480], \"sizemode\": \"area\", \"sizeref\": 20000}, \"mode\": \"markers\", \"name\": \"Panama\", \"text\": [\"Panama\"], \"x\": [352480], \"y\": [96517], \"type\": \"scatter\"}, {\"marker\": {\"size\": [2024322], \"sizemode\": \"area\", \"sizeref\": 20000}, \"mode\": \"markers\", \"name\": \"Philippines\", \"text\": [\"Philippines\"], \"x\": [2024322], \"y\": [362590], \"type\": \"scatter\"}, {\"marker\": {\"size\": [110000], \"sizemode\": \"area\", \"sizeref\": 20000}, \"mode\": \"markers\", \"name\": \"United Arab Emirates\", \"text\": [\"United Arab Emirates\"], \"x\": [110000], \"y\": [42000], \"type\": \"scatter\"}, {\"marker\": {\"size\": [449647], \"sizemode\": \"area\", \"sizeref\": 20000}, \"mode\": \"markers\", \"name\": \"United States of America\", \"text\": [\"United States of America\"], \"x\": [449647], \"y\": [218548], \"type\": \"scatter\"}], \"name\": \"2005\"}]);\n",
       "                        }).then(function(){\n",
       "                            \n",
       "var gd = document.getElementById('851d8be7-a35a-455e-a07c-1c9c66a7ccfe');\n",
       "var x = new MutationObserver(function (mutations, observer) {{\n",
       "        var display = window.getComputedStyle(gd).display;\n",
       "        if (!display || display === 'none') {{\n",
       "            console.log([gd, 'removed!']);\n",
       "            Plotly.purge(gd);\n",
       "            observer.disconnect();\n",
       "        }}\n",
       "}});\n",
       "\n",
       "// Listen for the removal of the full notebook cells\n",
       "var notebookContainer = gd.closest('#notebook-container');\n",
       "if (notebookContainer) {{\n",
       "    x.observe(notebookContainer, {childList: true});\n",
       "}}\n",
       "\n",
       "// Listen for the clearing of the current output cell\n",
       "var outputEl = gd.closest('.output');\n",
       "if (outputEl) {{\n",
       "    x.observe(outputEl, {childList: true});\n",
       "}}\n",
       "\n",
       "                        })\n",
       "                };\n",
       "                });\n",
       "            </script>\n",
       "        </div>"
      ]
     },
     "metadata": {},
     "output_type": "display_data"
    }
   ],
   "source": [
    "fig_dict[\"layout\"][\"sliders\"] = [sliders_dict]\n",
    "\n",
    "fig = go.Figure(fig_dict)\n",
    "\n",
    "fig.show()"
   ]
  }
 ],
 "metadata": {
  "kernelspec": {
   "display_name": "Python 3",
   "language": "python",
   "name": "python3"
  },
  "language_info": {
   "codemirror_mode": {
    "name": "ipython",
    "version": 3
   },
   "file_extension": ".py",
   "mimetype": "text/x-python",
   "name": "python",
   "nbconvert_exporter": "python",
   "pygments_lexer": "ipython3",
   "version": "3.7.3"
  }
 },
 "nbformat": 4,
 "nbformat_minor": 2
}
